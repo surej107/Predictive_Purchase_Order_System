{
 "cells": [
  {
   "cell_type": "code",
   "execution_count": 65,
   "metadata": {},
   "outputs": [],
   "source": [
    "import pandas as pd\n",
    "import matplotlib.pyplot as plt\n",
    "import matplotlib.dates as mdates\n",
    "import numpy as np\n",
    "from sklearn.metrics import mean_absolute_percentage_error as mape\n",
    "from statsmodels.tsa.arima.model import ARIMA\n",
    "from sklearn.metrics import mean_absolute_percentage_error\n",
    "import seaborn as sns\n",
    "from pmdarima import auto_arima\n"
   ]
  },
  {
   "cell_type": "code",
   "execution_count": 66,
   "metadata": {},
   "outputs": [
    {
     "name": "stdout",
     "output_type": "stream",
     "text": [
      "       pizza_id  order_id  pizza_name_id  quantity  order_date order_time  \\\n",
      "0             1         1     hawaiian_m         1    1/1/2015   11:38:36   \n",
      "1             2         2  classic_dlx_m         1    1/1/2015   11:57:40   \n",
      "2             3         2  five_cheese_l         1    1/1/2015   11:57:40   \n",
      "3             4         2    ital_supr_l         1    1/1/2015   11:57:40   \n",
      "4             5         2     mexicana_m         1    1/1/2015   11:57:40   \n",
      "...         ...       ...            ...       ...         ...        ...   \n",
      "48615     48616     21348  ckn_alfredo_m         1  31-12-2015   21:23:10   \n",
      "48616     48617     21348  four_cheese_l         1  31-12-2015   21:23:10   \n",
      "48617     48618     21348   napolitana_s         1  31-12-2015   21:23:10   \n",
      "48618     48619     21349     mexicana_l         1  31-12-2015   22:09:54   \n",
      "48619     48620     21350      bbq_ckn_s         1  31-12-2015   23:02:05   \n",
      "\n",
      "       unit_price  total_price pizza_size pizza_category  \\\n",
      "0           13.25        13.25          M        Classic   \n",
      "1           16.00        16.00          M        Classic   \n",
      "2           18.50        18.50          L         Veggie   \n",
      "3           20.75        20.75          L        Supreme   \n",
      "4           16.00        16.00          M         Veggie   \n",
      "...           ...          ...        ...            ...   \n",
      "48615       16.75        16.75          M        Chicken   \n",
      "48616       17.95        17.95          L         Veggie   \n",
      "48617       12.00        12.00          S        Classic   \n",
      "48618       20.25        20.25          L         Veggie   \n",
      "48619       12.75        12.75          S        Chicken   \n",
      "\n",
      "                                       pizza_ingredients  \\\n",
      "0               Sliced Ham, Pineapple, Mozzarella Cheese   \n",
      "1      Pepperoni, Mushrooms, Red Onions, Red Peppers,...   \n",
      "2      Mozzarella Cheese, Provolone Cheese, Smoked Go...   \n",
      "3      Calabrese Salami, Capocollo, Tomatoes, Red Oni...   \n",
      "4      Tomatoes, Red Peppers, Jalapeno Peppers, Red O...   \n",
      "...                                                  ...   \n",
      "48615  Chicken, Red Onions, Red Peppers, Mushrooms, A...   \n",
      "48616  Ricotta Cheese, Gorgonzola Piccante Cheese, Mo...   \n",
      "48617  Tomatoes, Anchovies, Green Olives, Red Onions,...   \n",
      "48618  Tomatoes, Red Peppers, Jalapeno Peppers, Red O...   \n",
      "48619  Barbecued Chicken, Red Peppers, Green Peppers,...   \n",
      "\n",
      "                       pizza_name  \n",
      "0              The Hawaiian Pizza  \n",
      "1        The Classic Deluxe Pizza  \n",
      "2           The Five Cheese Pizza  \n",
      "3       The Italian Supreme Pizza  \n",
      "4              The Mexicana Pizza  \n",
      "...                           ...  \n",
      "48615   The Chicken Alfredo Pizza  \n",
      "48616       The Four Cheese Pizza  \n",
      "48617        The Napolitana Pizza  \n",
      "48618          The Mexicana Pizza  \n",
      "48619  The Barbecue Chicken Pizza  \n",
      "\n",
      "[48620 rows x 12 columns]\n",
      "--------------------------------------------------------------------------------------------------------------------\n",
      "    pizza_name_id                         pizza_name  pizza_ingredients  \\\n",
      "0       bbq_ckn_l         The Barbecue Chicken Pizza  Barbecued Chicken   \n",
      "1       bbq_ckn_l         The Barbecue Chicken Pizza        Red Peppers   \n",
      "2       bbq_ckn_l         The Barbecue Chicken Pizza      Green Peppers   \n",
      "3       bbq_ckn_l         The Barbecue Chicken Pizza           Tomatoes   \n",
      "4       bbq_ckn_l         The Barbecue Chicken Pizza         Red Onions   \n",
      "..            ...                                ...                ...   \n",
      "513  veggie_veg_s  The Vegetables + Vegetables Pizza      Green Peppers   \n",
      "514  veggie_veg_s  The Vegetables + Vegetables Pizza         Red Onions   \n",
      "515  veggie_veg_s  The Vegetables + Vegetables Pizza           Zucchini   \n",
      "516  veggie_veg_s  The Vegetables + Vegetables Pizza            Spinach   \n",
      "517  veggie_veg_s  The Vegetables + Vegetables Pizza             Garlic   \n",
      "\n",
      "     Items_Qty_In_Grams  \n",
      "0                  40.0  \n",
      "1                  15.0  \n",
      "2                  20.0  \n",
      "3                  30.0  \n",
      "4                  60.0  \n",
      "..                  ...  \n",
      "513                20.0  \n",
      "514                20.0  \n",
      "515                10.0  \n",
      "516                15.0  \n",
      "517                 5.0  \n",
      "\n",
      "[518 rows x 4 columns]\n"
     ]
    }
   ],
   "source": [
    "sales_data = pd.read_csv(r\"C:\\Users\\surej\\OneDrive\\Desktop\\project\\ingredients_pred_capstone\\Pizza_Sale - pizza_sales.csv\")\n",
    "ingredients_data = pd.read_csv(r\"C:\\Users\\surej\\OneDrive\\Desktop\\project\\ingredients_pred_capstone\\Pizza_ingredients - Pizza_ingredients.csv\")\n",
    "\n",
    "print(sales_data)\n",
    "print(\"--------------------------------------------------------------------------------------------------------------------\")\n",
    "print(ingredients_data)\n"
   ]
  },
  {
   "cell_type": "code",
   "execution_count": 67,
   "metadata": {},
   "outputs": [
    {
     "name": "stdout",
     "output_type": "stream",
     "text": [
      "pizza_id              0\n",
      "order_id              0\n",
      "pizza_name_id        16\n",
      "quantity              0\n",
      "order_date            0\n",
      "order_time            0\n",
      "unit_price            0\n",
      "total_price           7\n",
      "pizza_size            0\n",
      "pizza_category       23\n",
      "pizza_ingredients    13\n",
      "pizza_name            7\n",
      "dtype: int64\n",
      "------------------------------------------------------\n",
      "pizza_name_id         0\n",
      "pizza_name            0\n",
      "pizza_ingredients     0\n",
      "Items_Qty_In_Grams    4\n",
      "dtype: int64\n"
     ]
    }
   ],
   "source": [
    "print(sales_data.isnull().sum())\n",
    "print(\"------------------------------------------------------\")\n",
    "print(ingredients_data.isnull().sum())\n"
   ]
  },
  {
   "cell_type": "code",
   "execution_count": 68,
   "metadata": {},
   "outputs": [
    {
     "name": "stderr",
     "output_type": "stream",
     "text": [
      "C:\\Users\\surej\\AppData\\Local\\Temp\\ipykernel_8464\\2192417003.py:2: FutureWarning: A value is trying to be set on a copy of a DataFrame or Series through chained assignment using an inplace method.\n",
      "The behavior will change in pandas 3.0. This inplace method will never work because the intermediate object on which we are setting values always behaves as a copy.\n",
      "\n",
      "For example, when doing 'df[col].method(value, inplace=True)', try using 'df.method({col: value}, inplace=True)' or df[col] = df[col].method(value) instead, to perform the operation inplace on the original object.\n",
      "\n",
      "\n",
      "  ingredients_data['Items_Qty_In_Grams'].fillna(mean_value, inplace=True)\n"
     ]
    }
   ],
   "source": [
    "mean_value = ingredients_data['Items_Qty_In_Grams'].mean()\n",
    "ingredients_data['Items_Qty_In_Grams'].fillna(mean_value, inplace=True)"
   ]
  },
  {
   "cell_type": "code",
   "execution_count": 69,
   "metadata": {},
   "outputs": [],
   "source": [
    "sales_data.dropna(inplace=True)"
   ]
  },
  {
   "cell_type": "code",
   "execution_count": 70,
   "metadata": {},
   "outputs": [
    {
     "name": "stdout",
     "output_type": "stream",
     "text": [
      "pizza_id             0\n",
      "order_id             0\n",
      "pizza_name_id        0\n",
      "quantity             0\n",
      "order_date           0\n",
      "order_time           0\n",
      "unit_price           0\n",
      "total_price          0\n",
      "pizza_size           0\n",
      "pizza_category       0\n",
      "pizza_ingredients    0\n",
      "pizza_name           0\n",
      "dtype: int64\n",
      "------------------------------------------------------\n",
      "pizza_name_id         0\n",
      "pizza_name            0\n",
      "pizza_ingredients     0\n",
      "Items_Qty_In_Grams    0\n",
      "dtype: int64\n"
     ]
    }
   ],
   "source": [
    "print(sales_data.isnull().sum())\n",
    "print(\"------------------------------------------------------\")\n",
    "print(ingredients_data.isnull().sum())"
   ]
  },
  {
   "cell_type": "code",
   "execution_count": 71,
   "metadata": {},
   "outputs": [],
   "source": [
    "def clean_dates(date_str):\n",
    "    # Example: replace hyphens with slashes\n",
    "    if isinstance(date_str, str):\n",
    "        return date_str.replace('-', '/')\n",
    "    return date_str"
   ]
  },
  {
   "cell_type": "code",
   "execution_count": 72,
   "metadata": {},
   "outputs": [
    {
     "data": {
      "image/png": "[encoded data removed]",
      "text/plain": [
       "<Figure size 1000x600 with 1 Axes>"
      ]
     },
     "metadata": {},
     "output_type": "display_data"
    }
   ],
   "source": [
    "sales_data['order_date'] = sales_data['order_date'].apply(clean_dates)\n",
    "\n",
    "# Convert order_date to datetime, allowing mixed formats and day-first interpretation\n",
    "sales_data['order_date'] = pd.to_datetime(sales_data['order_date'], dayfirst=True, errors='coerce')\n",
    "\n",
    "# Group by date and sum the quantities\n",
    "daily_sales = sales_data.groupby('order_date')['quantity'].sum().reset_index()\n",
    "\n",
    "# Plot daily sales over time with improved formatting\n",
    "plt.figure(figsize=(10,6))\n",
    "plt.plot(daily_sales['order_date'], daily_sales['quantity'], label='Daily Sales')\n",
    "\n",
    "# Set title and labels\n",
    "plt.title('Pizza Sales Over Time')\n",
    "plt.xlabel('Order Date')\n",
    "plt.ylabel('Total Pizzas Sold')\n",
    "\n",
    "# Improve the x-axis date format and reduce the number of ticks\n",
    "plt.gca().xaxis.set_major_locator(mdates.MonthLocator(interval=1))  # Set ticks every month\n",
    "plt.gca().xaxis.set_major_formatter(mdates.DateFormatter('%b %Y'))  # Format dates as 'Month Year'\n",
    "\n",
    "plt.xticks(rotation=45)\n",
    "plt.grid(True)\n",
    "plt.legend()\n",
    "plt.tight_layout()  # Adjust layout to ensure labels fit\n",
    "plt.show()\n"
   ]
  },
  {
   "cell_type": "code",
   "execution_count": 73,
   "metadata": {},
   "outputs": [
    {
     "data": {
      "text/html": [
       "<div>\n",
       "<style scoped>\n",
       "    .dataframe tbody tr th:only-of-type {\n",
       "        vertical-align: middle;\n",
       "    }\n",
       "\n",
       "    .dataframe tbody tr th {\n",
       "        vertical-align: top;\n",
       "    }\n",
       "\n",
       "    .dataframe thead th {\n",
       "        text-align: right;\n",
       "    }\n",
       "</style>\n",
       "<table border=\"1\" class=\"dataframe\">\n",
       "  <thead>\n",
       "    <tr style=\"text-align: right;\">\n",
       "      <th></th>\n",
       "      <th>order_date</th>\n",
       "      <th>quantity</th>\n",
       "    </tr>\n",
       "  </thead>\n",
       "  <tbody>\n",
       "    <tr>\n",
       "      <th>0</th>\n",
       "      <td>2015-01-01</td>\n",
       "      <td>156</td>\n",
       "    </tr>\n",
       "    <tr>\n",
       "      <th>1</th>\n",
       "      <td>2015-01-02</td>\n",
       "      <td>160</td>\n",
       "    </tr>\n",
       "    <tr>\n",
       "      <th>2</th>\n",
       "      <td>2015-01-03</td>\n",
       "      <td>143</td>\n",
       "    </tr>\n",
       "    <tr>\n",
       "      <th>3</th>\n",
       "      <td>2015-01-04</td>\n",
       "      <td>92</td>\n",
       "    </tr>\n",
       "    <tr>\n",
       "      <th>4</th>\n",
       "      <td>2015-01-05</td>\n",
       "      <td>106</td>\n",
       "    </tr>\n",
       "    <tr>\n",
       "      <th>...</th>\n",
       "      <td>...</td>\n",
       "      <td>...</td>\n",
       "    </tr>\n",
       "    <tr>\n",
       "      <th>353</th>\n",
       "      <td>2015-12-27</td>\n",
       "      <td>89</td>\n",
       "    </tr>\n",
       "    <tr>\n",
       "      <th>354</th>\n",
       "      <td>2015-12-28</td>\n",
       "      <td>102</td>\n",
       "    </tr>\n",
       "    <tr>\n",
       "      <th>355</th>\n",
       "      <td>2015-12-29</td>\n",
       "      <td>80</td>\n",
       "    </tr>\n",
       "    <tr>\n",
       "      <th>356</th>\n",
       "      <td>2015-12-30</td>\n",
       "      <td>82</td>\n",
       "    </tr>\n",
       "    <tr>\n",
       "      <th>357</th>\n",
       "      <td>2015-12-31</td>\n",
       "      <td>178</td>\n",
       "    </tr>\n",
       "  </tbody>\n",
       "</table>\n",
       "<p>358 rows × 2 columns</p>\n",
       "</div>"
      ],
      "text/plain": [
       "    order_date  quantity\n",
       "0   2015-01-01       156\n",
       "1   2015-01-02       160\n",
       "2   2015-01-03       143\n",
       "3   2015-01-04        92\n",
       "4   2015-01-05       106\n",
       "..         ...       ...\n",
       "353 2015-12-27        89\n",
       "354 2015-12-28       102\n",
       "355 2015-12-29        80\n",
       "356 2015-12-30        82\n",
       "357 2015-12-31       178\n",
       "\n",
       "[358 rows x 2 columns]"
      ]
     },
     "execution_count": 73,
     "metadata": {},
     "output_type": "execute_result"
    }
   ],
   "source": [
    "daily_sales = sales_data.groupby('order_date')['quantity'].sum().reset_index()\n",
    "daily_sales"
   ]
  },
  {
   "cell_type": "code",
   "execution_count": 74,
   "metadata": {},
   "outputs": [
    {
     "name": "stdout",
     "output_type": "stream",
     "text": [
      "pizza_id             0\n",
      "order_id             0\n",
      "pizza_name_id        0\n",
      "quantity             0\n",
      "order_date           0\n",
      "order_time           0\n",
      "unit_price           0\n",
      "total_price          0\n",
      "pizza_size           0\n",
      "pizza_category       0\n",
      "pizza_ingredients    0\n",
      "pizza_name           0\n",
      "dtype: int64\n",
      "------------------------------------------------------\n",
      "pizza_name_id         0\n",
      "pizza_name            0\n",
      "pizza_ingredients     0\n",
      "Items_Qty_In_Grams    0\n",
      "dtype: int64\n"
     ]
    }
   ],
   "source": [
    "print(sales_data.isnull().sum())\n",
    "print(\"------------------------------------------------------\")\n",
    "print(ingredients_data.isnull().sum())"
   ]
  },
  {
   "cell_type": "code",
   "execution_count": 75,
   "metadata": {},
   "outputs": [],
   "source": [
    "# Extract useful time-based features\n",
    "sales_data['day_of_week'] = sales_data['order_date'].dt.dayofweek\n",
    "sales_data['month'] = sales_data['order_date'].dt.month\n",
    "sales_data['week_start'] = sales_data['order_date'] - pd.to_timedelta(sales_data['order_date'].dt.weekday, unit='D')  # Get week start (Monday)\n",
    "sales_data['week'] = sales_data['order_date'].dt.isocalendar().week\n",
    "sales_data['year'] = sales_data['order_date'].dt.year\n",
    "\n",
    "# Create a feature to flag holidays\n",
    "def is_holiday(date):\n",
    "    holidays = [\n",
    "    \"2015-01-01\",  # New Year's Day\n",
    "    \"2015-01-14\",  # Makar Sankranti / Pongal\n",
    "    \"2015-01-26\",  # Republic Day\n",
    "    \"2015-02-17\",  # Maha Shivaratri\n",
    "    \"2015-03-06\",  # Holi\n",
    "    \"2015-03-28\",  # Ram Navami\n",
    "    \"2015-04-02\",  # Mahavir Jayanti\n",
    "    \"2015-04-03\",  # Good Friday\n",
    "    \"2015-05-01\",  # May Day\n",
    "    \"2015-07-18\",  # Eid al-Fitr\n",
    "    \"2015-08-15\",  # Independence Day\n",
    "    \"2015-08-29\",  # Raksha Bandhan\n",
    "    \"2015-09-17\",  # Ganesh Chaturthi\n",
    "    \"2015-09-25\",  # Eid al-Adha\n",
    "    \"2015-10-02\",  # Gandhi Jayanti\n",
    "    \"2015-10-22\",  # Dussehra\n",
    "    \"2015-11-11\",  # Diwali\n",
    "    \"2015-11-25\",  # Guru Nanak Jayanti\n",
    "    \"2015-12-25\",  # Christmas\n",
    "]\n",
    "    return 1 if date.strftime(\"%Y-%m-%d\") in holidays else 0\n",
    "\n",
    "sales_data['is_holiday'] = sales_data['order_date'].apply(is_holiday)\n"
   ]
  },
  {
   "cell_type": "code",
   "execution_count": 76,
   "metadata": {},
   "outputs": [
    {
     "name": "stderr",
     "output_type": "stream",
     "text": [
      "C:\\Users\\surej\\AppData\\Local\\Temp\\ipykernel_8464\\1566376426.py:5: FutureWarning: \n",
      "\n",
      "Passing `palette` without assigning `hue` is deprecated and will be removed in v0.14.0. Assign the `x` variable to `hue` and set `legend=False` for the same effect.\n",
      "\n",
      "  sns.barplot(x='is_holiday', y='quantity', data=holiday_sales, palette='Set2')\n"
     ]
    },
    {
     "data": {
      "image/png": "[encoded data removed]",
      "text/plain": [
       "<Figure size 800x600 with 1 Axes>"
      ]
     },
     "metadata": {},
     "output_type": "display_data"
    }
   ],
   "source": [
    "holiday_sales = sales_data.groupby('is_holiday')['quantity'].sum().reset_index()\n",
    "\n",
    "# Plotting the comparison\n",
    "plt.figure(figsize=(8, 6))\n",
    "sns.barplot(x='is_holiday', y='quantity', data=holiday_sales, palette='Set2')\n",
    "\n",
    "# Customizing the plot\n",
    "plt.title('Sales During Holidays vs Non-Holidays')\n",
    "plt.xlabel('Holiday (1 = Holiday, 0 = Non-Holiday)')\n",
    "plt.ylabel('Total Sales')\n",
    "plt.xticks([0, 1], ['Non-Holiday', 'Holiday'])\n",
    "plt.show()\n",
    "\n"
   ]
  },
  {
   "cell_type": "code",
   "execution_count": 77,
   "metadata": {},
   "outputs": [
    {
     "name": "stdout",
     "output_type": "stream",
     "text": [
      "Total days: 358\n",
      "Number of holidays: 17\n",
      "Number of non-holidays: 341\n",
      "Total sales during holidays: 2361\n",
      "Total sales during non-holidays: 47147\n",
      "Percentage of sales during holidays: 4.77%\n",
      "Percentage of sales during non-holidays: 95.23%\n"
     ]
    }
   ],
   "source": [
    "# Counting the number of holidays and non-holidays\n",
    "total_days = sales_data['order_date'].nunique()  # Get the number of unique dates\n",
    "holidays_count = sales_data[sales_data['is_holiday'] == 1]['order_date'].nunique()  # Get the number of unique holidays\n",
    "non_holidays_count = total_days - holidays_count  # Number of non-holidays\n",
    "\n",
    "print(f\"Total days: {total_days}\")\n",
    "print(f\"Number of holidays: {holidays_count}\")\n",
    "print(f\"Number of non-holidays: {non_holidays_count}\")\n",
    "\n",
    "# Grouping by 'is_holiday' and summing up 'total_sales' to compare holiday and non-holiday sales\n",
    "holiday_sales = sales_data.groupby('is_holiday')['quantity'].sum().reset_index()\n",
    "\n",
    "# Extracting the total sales for holidays and non-holidays\n",
    "total_sales_holidays = holiday_sales[holiday_sales['is_holiday'] == 1]['quantity'].values[0]\n",
    "total_sales_non_holidays = holiday_sales[holiday_sales['is_holiday'] == 0]['quantity'].values[0]\n",
    "\n",
    "# Calculating percentage sales\n",
    "total_sales = total_sales_holidays + total_sales_non_holidays\n",
    "percentage_sales_holidays = (total_sales_holidays / total_sales) * 100\n",
    "percentage_sales_non_holidays = (total_sales_non_holidays / total_sales) * 100\n",
    "\n",
    "print(f\"Total sales during holidays: {total_sales_holidays}\")\n",
    "print(f\"Total sales during non-holidays: {total_sales_non_holidays}\")\n",
    "print(f\"Percentage of sales during holidays: {percentage_sales_holidays:.2f}%\")\n",
    "print(f\"Percentage of sales during non-holidays: {percentage_sales_non_holidays:.2f}%\")\n"
   ]
  },
  {
   "cell_type": "code",
   "execution_count": 78,
   "metadata": {},
   "outputs": [
    {
     "name": "stdout",
     "output_type": "stream",
     "text": [
      "Average sales per day during holidays: 138.88\n",
      "Average sales per day during non-holidays: 138.26\n",
      "Sales increase during holidays.\n"
     ]
    }
   ],
   "source": [
    "holidays_count = sales_data[sales_data['is_holiday'] == 1]['order_date'].nunique()\n",
    "non_holidays_count = sales_data[sales_data['is_holiday'] == 0]['order_date'].nunique()\n",
    "\n",
    "holiday_sales_data = sales_data.groupby('is_holiday')['quantity'].sum().reset_index()\n",
    "\n",
    "total_sales_holidays = holiday_sales_data[holiday_sales_data['is_holiday'] == 1]['quantity'].values[0]\n",
    "total_sales_non_holidays = holiday_sales_data[holiday_sales_data['is_holiday'] == 0]['quantity'].values[0]\n",
    "\n",
    "average_sales_holidays = total_sales_holidays / holidays_count\n",
    "average_sales_non_holidays = total_sales_non_holidays / non_holidays_count\n",
    "\n",
    "print(f\"Average sales per day during holidays: {average_sales_holidays:.2f}\")\n",
    "print(f\"Average sales per day during non-holidays: {average_sales_non_holidays:.2f}\")\n",
    "\n",
    "if average_sales_holidays > average_sales_non_holidays:\n",
    "    print(\"Sales increase during holidays.\")\n",
    "elif average_sales_holidays < average_sales_non_holidays:\n",
    "    print(\"Sales decrease during holidays.\")\n",
    "else:\n",
    "    print(\"Sales are the same during holidays and non-holidays.\")\n"
   ]
  },
  {
   "cell_type": "code",
   "execution_count": 79,
   "metadata": {},
   "outputs": [
    {
     "name": "stdout",
     "output_type": "stream",
     "text": [
      "pizza_id             0\n",
      "order_id             0\n",
      "pizza_name_id        0\n",
      "quantity             0\n",
      "order_date           0\n",
      "order_time           0\n",
      "unit_price           0\n",
      "total_price          0\n",
      "pizza_size           0\n",
      "pizza_category       0\n",
      "pizza_ingredients    0\n",
      "pizza_name           0\n",
      "day_of_week          0\n",
      "month                0\n",
      "week_start           0\n",
      "week                 0\n",
      "year                 0\n",
      "is_holiday           0\n",
      "dtype: int64\n",
      "------------------------------------------------------\n",
      "pizza_name_id         0\n",
      "pizza_name            0\n",
      "pizza_ingredients     0\n",
      "Items_Qty_In_Grams    0\n",
      "dtype: int64\n"
     ]
    }
   ],
   "source": [
    "print(sales_data.isnull().sum())\n",
    "print(\"------------------------------------------------------\")\n",
    "print(ingredients_data.isnull().sum())"
   ]
  },
  {
   "cell_type": "code",
   "execution_count": 80,
   "metadata": {},
   "outputs": [
    {
     "data": {
      "text/html": [
       "<div>\n",
       "<style scoped>\n",
       "    .dataframe tbody tr th:only-of-type {\n",
       "        vertical-align: middle;\n",
       "    }\n",
       "\n",
       "    .dataframe tbody tr th {\n",
       "        vertical-align: top;\n",
       "    }\n",
       "\n",
       "    .dataframe thead th {\n",
       "        text-align: right;\n",
       "    }\n",
       "</style>\n",
       "<table border=\"1\" class=\"dataframe\">\n",
       "  <thead>\n",
       "    <tr style=\"text-align: right;\">\n",
       "      <th></th>\n",
       "      <th>pizza_id</th>\n",
       "      <th>order_id</th>\n",
       "      <th>pizza_name_id</th>\n",
       "      <th>quantity</th>\n",
       "      <th>order_date</th>\n",
       "      <th>order_time</th>\n",
       "      <th>unit_price</th>\n",
       "      <th>total_price</th>\n",
       "      <th>pizza_size</th>\n",
       "      <th>pizza_category</th>\n",
       "      <th>pizza_ingredients</th>\n",
       "      <th>pizza_name</th>\n",
       "      <th>day_of_week</th>\n",
       "      <th>month</th>\n",
       "      <th>week_start</th>\n",
       "      <th>week</th>\n",
       "      <th>year</th>\n",
       "      <th>is_holiday</th>\n",
       "    </tr>\n",
       "  </thead>\n",
       "  <tbody>\n",
       "    <tr>\n",
       "      <th>0</th>\n",
       "      <td>1</td>\n",
       "      <td>1</td>\n",
       "      <td>hawaiian_m</td>\n",
       "      <td>1</td>\n",
       "      <td>2015-01-01</td>\n",
       "      <td>11:38:36</td>\n",
       "      <td>13.25</td>\n",
       "      <td>13.25</td>\n",
       "      <td>M</td>\n",
       "      <td>Classic</td>\n",
       "      <td>Sliced Ham, Pineapple, Mozzarella Cheese</td>\n",
       "      <td>The Hawaiian Pizza</td>\n",
       "      <td>3</td>\n",
       "      <td>1</td>\n",
       "      <td>2014-12-29</td>\n",
       "      <td>1</td>\n",
       "      <td>2015</td>\n",
       "      <td>1</td>\n",
       "    </tr>\n",
       "    <tr>\n",
       "      <th>1</th>\n",
       "      <td>2</td>\n",
       "      <td>2</td>\n",
       "      <td>classic_dlx_m</td>\n",
       "      <td>1</td>\n",
       "      <td>2015-01-01</td>\n",
       "      <td>11:57:40</td>\n",
       "      <td>16.00</td>\n",
       "      <td>16.00</td>\n",
       "      <td>M</td>\n",
       "      <td>Classic</td>\n",
       "      <td>Pepperoni, Mushrooms, Red Onions, Red Peppers,...</td>\n",
       "      <td>The Classic Deluxe Pizza</td>\n",
       "      <td>3</td>\n",
       "      <td>1</td>\n",
       "      <td>2014-12-29</td>\n",
       "      <td>1</td>\n",
       "      <td>2015</td>\n",
       "      <td>1</td>\n",
       "    </tr>\n",
       "    <tr>\n",
       "      <th>2</th>\n",
       "      <td>3</td>\n",
       "      <td>2</td>\n",
       "      <td>five_cheese_l</td>\n",
       "      <td>1</td>\n",
       "      <td>2015-01-01</td>\n",
       "      <td>11:57:40</td>\n",
       "      <td>18.50</td>\n",
       "      <td>18.50</td>\n",
       "      <td>L</td>\n",
       "      <td>Veggie</td>\n",
       "      <td>Mozzarella Cheese, Provolone Cheese, Smoked Go...</td>\n",
       "      <td>The Five Cheese Pizza</td>\n",
       "      <td>3</td>\n",
       "      <td>1</td>\n",
       "      <td>2014-12-29</td>\n",
       "      <td>1</td>\n",
       "      <td>2015</td>\n",
       "      <td>1</td>\n",
       "    </tr>\n",
       "    <tr>\n",
       "      <th>3</th>\n",
       "      <td>4</td>\n",
       "      <td>2</td>\n",
       "      <td>ital_supr_l</td>\n",
       "      <td>1</td>\n",
       "      <td>2015-01-01</td>\n",
       "      <td>11:57:40</td>\n",
       "      <td>20.75</td>\n",
       "      <td>20.75</td>\n",
       "      <td>L</td>\n",
       "      <td>Supreme</td>\n",
       "      <td>Calabrese Salami, Capocollo, Tomatoes, Red Oni...</td>\n",
       "      <td>The Italian Supreme Pizza</td>\n",
       "      <td>3</td>\n",
       "      <td>1</td>\n",
       "      <td>2014-12-29</td>\n",
       "      <td>1</td>\n",
       "      <td>2015</td>\n",
       "      <td>1</td>\n",
       "    </tr>\n",
       "    <tr>\n",
       "      <th>4</th>\n",
       "      <td>5</td>\n",
       "      <td>2</td>\n",
       "      <td>mexicana_m</td>\n",
       "      <td>1</td>\n",
       "      <td>2015-01-01</td>\n",
       "      <td>11:57:40</td>\n",
       "      <td>16.00</td>\n",
       "      <td>16.00</td>\n",
       "      <td>M</td>\n",
       "      <td>Veggie</td>\n",
       "      <td>Tomatoes, Red Peppers, Jalapeno Peppers, Red O...</td>\n",
       "      <td>The Mexicana Pizza</td>\n",
       "      <td>3</td>\n",
       "      <td>1</td>\n",
       "      <td>2014-12-29</td>\n",
       "      <td>1</td>\n",
       "      <td>2015</td>\n",
       "      <td>1</td>\n",
       "    </tr>\n",
       "    <tr>\n",
       "      <th>...</th>\n",
       "      <td>...</td>\n",
       "      <td>...</td>\n",
       "      <td>...</td>\n",
       "      <td>...</td>\n",
       "      <td>...</td>\n",
       "      <td>...</td>\n",
       "      <td>...</td>\n",
       "      <td>...</td>\n",
       "      <td>...</td>\n",
       "      <td>...</td>\n",
       "      <td>...</td>\n",
       "      <td>...</td>\n",
       "      <td>...</td>\n",
       "      <td>...</td>\n",
       "      <td>...</td>\n",
       "      <td>...</td>\n",
       "      <td>...</td>\n",
       "      <td>...</td>\n",
       "    </tr>\n",
       "    <tr>\n",
       "      <th>48615</th>\n",
       "      <td>48616</td>\n",
       "      <td>21348</td>\n",
       "      <td>ckn_alfredo_m</td>\n",
       "      <td>1</td>\n",
       "      <td>2015-12-31</td>\n",
       "      <td>21:23:10</td>\n",
       "      <td>16.75</td>\n",
       "      <td>16.75</td>\n",
       "      <td>M</td>\n",
       "      <td>Chicken</td>\n",
       "      <td>Chicken, Red Onions, Red Peppers, Mushrooms, A...</td>\n",
       "      <td>The Chicken Alfredo Pizza</td>\n",
       "      <td>3</td>\n",
       "      <td>12</td>\n",
       "      <td>2015-12-28</td>\n",
       "      <td>53</td>\n",
       "      <td>2015</td>\n",
       "      <td>0</td>\n",
       "    </tr>\n",
       "    <tr>\n",
       "      <th>48616</th>\n",
       "      <td>48617</td>\n",
       "      <td>21348</td>\n",
       "      <td>four_cheese_l</td>\n",
       "      <td>1</td>\n",
       "      <td>2015-12-31</td>\n",
       "      <td>21:23:10</td>\n",
       "      <td>17.95</td>\n",
       "      <td>17.95</td>\n",
       "      <td>L</td>\n",
       "      <td>Veggie</td>\n",
       "      <td>Ricotta Cheese, Gorgonzola Piccante Cheese, Mo...</td>\n",
       "      <td>The Four Cheese Pizza</td>\n",
       "      <td>3</td>\n",
       "      <td>12</td>\n",
       "      <td>2015-12-28</td>\n",
       "      <td>53</td>\n",
       "      <td>2015</td>\n",
       "      <td>0</td>\n",
       "    </tr>\n",
       "    <tr>\n",
       "      <th>48617</th>\n",
       "      <td>48618</td>\n",
       "      <td>21348</td>\n",
       "      <td>napolitana_s</td>\n",
       "      <td>1</td>\n",
       "      <td>2015-12-31</td>\n",
       "      <td>21:23:10</td>\n",
       "      <td>12.00</td>\n",
       "      <td>12.00</td>\n",
       "      <td>S</td>\n",
       "      <td>Classic</td>\n",
       "      <td>Tomatoes, Anchovies, Green Olives, Red Onions,...</td>\n",
       "      <td>The Napolitana Pizza</td>\n",
       "      <td>3</td>\n",
       "      <td>12</td>\n",
       "      <td>2015-12-28</td>\n",
       "      <td>53</td>\n",
       "      <td>2015</td>\n",
       "      <td>0</td>\n",
       "    </tr>\n",
       "    <tr>\n",
       "      <th>48618</th>\n",
       "      <td>48619</td>\n",
       "      <td>21349</td>\n",
       "      <td>mexicana_l</td>\n",
       "      <td>1</td>\n",
       "      <td>2015-12-31</td>\n",
       "      <td>22:09:54</td>\n",
       "      <td>20.25</td>\n",
       "      <td>20.25</td>\n",
       "      <td>L</td>\n",
       "      <td>Veggie</td>\n",
       "      <td>Tomatoes, Red Peppers, Jalapeno Peppers, Red O...</td>\n",
       "      <td>The Mexicana Pizza</td>\n",
       "      <td>3</td>\n",
       "      <td>12</td>\n",
       "      <td>2015-12-28</td>\n",
       "      <td>53</td>\n",
       "      <td>2015</td>\n",
       "      <td>0</td>\n",
       "    </tr>\n",
       "    <tr>\n",
       "      <th>48619</th>\n",
       "      <td>48620</td>\n",
       "      <td>21350</td>\n",
       "      <td>bbq_ckn_s</td>\n",
       "      <td>1</td>\n",
       "      <td>2015-12-31</td>\n",
       "      <td>23:02:05</td>\n",
       "      <td>12.75</td>\n",
       "      <td>12.75</td>\n",
       "      <td>S</td>\n",
       "      <td>Chicken</td>\n",
       "      <td>Barbecued Chicken, Red Peppers, Green Peppers,...</td>\n",
       "      <td>The Barbecue Chicken Pizza</td>\n",
       "      <td>3</td>\n",
       "      <td>12</td>\n",
       "      <td>2015-12-28</td>\n",
       "      <td>53</td>\n",
       "      <td>2015</td>\n",
       "      <td>0</td>\n",
       "    </tr>\n",
       "  </tbody>\n",
       "</table>\n",
       "<p>48554 rows × 18 columns</p>\n",
       "</div>"
      ],
      "text/plain": [
       "       pizza_id  order_id  pizza_name_id  quantity order_date order_time  \\\n",
       "0             1         1     hawaiian_m         1 2015-01-01   11:38:36   \n",
       "1             2         2  classic_dlx_m         1 2015-01-01   11:57:40   \n",
       "2             3         2  five_cheese_l         1 2015-01-01   11:57:40   \n",
       "3             4         2    ital_supr_l         1 2015-01-01   11:57:40   \n",
       "4             5         2     mexicana_m         1 2015-01-01   11:57:40   \n",
       "...         ...       ...            ...       ...        ...        ...   \n",
       "48615     48616     21348  ckn_alfredo_m         1 2015-12-31   21:23:10   \n",
       "48616     48617     21348  four_cheese_l         1 2015-12-31   21:23:10   \n",
       "48617     48618     21348   napolitana_s         1 2015-12-31   21:23:10   \n",
       "48618     48619     21349     mexicana_l         1 2015-12-31   22:09:54   \n",
       "48619     48620     21350      bbq_ckn_s         1 2015-12-31   23:02:05   \n",
       "\n",
       "       unit_price  total_price pizza_size pizza_category  \\\n",
       "0           13.25        13.25          M        Classic   \n",
       "1           16.00        16.00          M        Classic   \n",
       "2           18.50        18.50          L         Veggie   \n",
       "3           20.75        20.75          L        Supreme   \n",
       "4           16.00        16.00          M         Veggie   \n",
       "...           ...          ...        ...            ...   \n",
       "48615       16.75        16.75          M        Chicken   \n",
       "48616       17.95        17.95          L         Veggie   \n",
       "48617       12.00        12.00          S        Classic   \n",
       "48618       20.25        20.25          L         Veggie   \n",
       "48619       12.75        12.75          S        Chicken   \n",
       "\n",
       "                                       pizza_ingredients  \\\n",
       "0               Sliced Ham, Pineapple, Mozzarella Cheese   \n",
       "1      Pepperoni, Mushrooms, Red Onions, Red Peppers,...   \n",
       "2      Mozzarella Cheese, Provolone Cheese, Smoked Go...   \n",
       "3      Calabrese Salami, Capocollo, Tomatoes, Red Oni...   \n",
       "4      Tomatoes, Red Peppers, Jalapeno Peppers, Red O...   \n",
       "...                                                  ...   \n",
       "48615  Chicken, Red Onions, Red Peppers, Mushrooms, A...   \n",
       "48616  Ricotta Cheese, Gorgonzola Piccante Cheese, Mo...   \n",
       "48617  Tomatoes, Anchovies, Green Olives, Red Onions,...   \n",
       "48618  Tomatoes, Red Peppers, Jalapeno Peppers, Red O...   \n",
       "48619  Barbecued Chicken, Red Peppers, Green Peppers,...   \n",
       "\n",
       "                       pizza_name  day_of_week  month week_start  week  year  \\\n",
       "0              The Hawaiian Pizza            3      1 2014-12-29     1  2015   \n",
       "1        The Classic Deluxe Pizza            3      1 2014-12-29     1  2015   \n",
       "2           The Five Cheese Pizza            3      1 2014-12-29     1  2015   \n",
       "3       The Italian Supreme Pizza            3      1 2014-12-29     1  2015   \n",
       "4              The Mexicana Pizza            3      1 2014-12-29     1  2015   \n",
       "...                           ...          ...    ...        ...   ...   ...   \n",
       "48615   The Chicken Alfredo Pizza            3     12 2015-12-28    53  2015   \n",
       "48616       The Four Cheese Pizza            3     12 2015-12-28    53  2015   \n",
       "48617        The Napolitana Pizza            3     12 2015-12-28    53  2015   \n",
       "48618          The Mexicana Pizza            3     12 2015-12-28    53  2015   \n",
       "48619  The Barbecue Chicken Pizza            3     12 2015-12-28    53  2015   \n",
       "\n",
       "       is_holiday  \n",
       "0               1  \n",
       "1               1  \n",
       "2               1  \n",
       "3               1  \n",
       "4               1  \n",
       "...           ...  \n",
       "48615           0  \n",
       "48616           0  \n",
       "48617           0  \n",
       "48618           0  \n",
       "48619           0  \n",
       "\n",
       "[48554 rows x 18 columns]"
      ]
     },
     "execution_count": 80,
     "metadata": {},
     "output_type": "execute_result"
    }
   ],
   "source": [
    "sales_data"
   ]
  },
  {
   "cell_type": "code",
   "execution_count": 83,
   "metadata": {},
   "outputs": [
    {
     "name": "stdout",
     "output_type": "stream",
     "text": [
      "Generating forecast for pizza_name_id: bbq_ckn_l\n"
     ]
    },
    {
     "name": "stderr",
     "output_type": "stream",
     "text": [
      "c:\\Users\\surej\\OneDrive\\Desktop\\project\\.vene\\Lib\\site-packages\\statsmodels\\tsa\\base\\tsa_model.py:473: ValueWarning: No frequency information was provided, so inferred frequency W-MON will be used.\n",
      "  self._init_dates(dates, freq)\n",
      "c:\\Users\\surej\\OneDrive\\Desktop\\project\\.vene\\Lib\\site-packages\\statsmodels\\tsa\\base\\tsa_model.py:473: ValueWarning: No frequency information was provided, so inferred frequency W-MON will be used.\n",
      "  self._init_dates(dates, freq)\n",
      "c:\\Users\\surej\\OneDrive\\Desktop\\project\\.vene\\Lib\\site-packages\\statsmodels\\tsa\\base\\tsa_model.py:473: ValueWarning: No frequency information was provided, so inferred frequency W-MON will be used.\n",
      "  self._init_dates(dates, freq)\n"
     ]
    },
    {
     "name": "stdout",
     "output_type": "stream",
     "text": [
      "Generating forecast for pizza_name_id: bbq_ckn_m\n"
     ]
    },
    {
     "name": "stderr",
     "output_type": "stream",
     "text": [
      "c:\\Users\\surej\\OneDrive\\Desktop\\project\\.vene\\Lib\\site-packages\\statsmodels\\tsa\\base\\tsa_model.py:473: ValueWarning: No frequency information was provided, so inferred frequency W-MON will be used.\n",
      "  self._init_dates(dates, freq)\n",
      "c:\\Users\\surej\\OneDrive\\Desktop\\project\\.vene\\Lib\\site-packages\\statsmodels\\tsa\\base\\tsa_model.py:473: ValueWarning: No frequency information was provided, so inferred frequency W-MON will be used.\n",
      "  self._init_dates(dates, freq)\n",
      "c:\\Users\\surej\\OneDrive\\Desktop\\project\\.vene\\Lib\\site-packages\\statsmodels\\tsa\\base\\tsa_model.py:473: ValueWarning: No frequency information was provided, so inferred frequency W-MON will be used.\n",
      "  self._init_dates(dates, freq)\n"
     ]
    },
    {
     "name": "stdout",
     "output_type": "stream",
     "text": [
      "Generating forecast for pizza_name_id: bbq_ckn_s\n"
     ]
    },
    {
     "name": "stderr",
     "output_type": "stream",
     "text": [
      "c:\\Users\\surej\\OneDrive\\Desktop\\project\\.vene\\Lib\\site-packages\\statsmodels\\tsa\\base\\tsa_model.py:473: ValueWarning: No frequency information was provided, so inferred frequency W-MON will be used.\n",
      "  self._init_dates(dates, freq)\n",
      "c:\\Users\\surej\\OneDrive\\Desktop\\project\\.vene\\Lib\\site-packages\\statsmodels\\tsa\\base\\tsa_model.py:473: ValueWarning: No frequency information was provided, so inferred frequency W-MON will be used.\n",
      "  self._init_dates(dates, freq)\n",
      "c:\\Users\\surej\\OneDrive\\Desktop\\project\\.vene\\Lib\\site-packages\\statsmodels\\tsa\\base\\tsa_model.py:473: ValueWarning: No frequency information was provided, so inferred frequency W-MON will be used.\n",
      "  self._init_dates(dates, freq)\n"
     ]
    },
    {
     "name": "stdout",
     "output_type": "stream",
     "text": [
      "Generating forecast for pizza_name_id: big_meat_s\n"
     ]
    },
    {
     "name": "stderr",
     "output_type": "stream",
     "text": [
      "c:\\Users\\surej\\OneDrive\\Desktop\\project\\.vene\\Lib\\site-packages\\statsmodels\\tsa\\base\\tsa_model.py:473: ValueWarning: No frequency information was provided, so inferred frequency W-MON will be used.\n",
      "  self._init_dates(dates, freq)\n",
      "c:\\Users\\surej\\OneDrive\\Desktop\\project\\.vene\\Lib\\site-packages\\statsmodels\\tsa\\base\\tsa_model.py:473: ValueWarning: No frequency information was provided, so inferred frequency W-MON will be used.\n",
      "  self._init_dates(dates, freq)\n",
      "c:\\Users\\surej\\OneDrive\\Desktop\\project\\.vene\\Lib\\site-packages\\statsmodels\\tsa\\base\\tsa_model.py:473: ValueWarning: No frequency information was provided, so inferred frequency W-MON will be used.\n",
      "  self._init_dates(dates, freq)\n"
     ]
    },
    {
     "name": "stdout",
     "output_type": "stream",
     "text": [
      "Generating forecast for pizza_name_id: brie_carre_s\n"
     ]
    },
    {
     "name": "stderr",
     "output_type": "stream",
     "text": [
      "c:\\Users\\surej\\OneDrive\\Desktop\\project\\.vene\\Lib\\site-packages\\statsmodels\\tsa\\base\\tsa_model.py:473: ValueWarning: No frequency information was provided, so inferred frequency W-MON will be used.\n",
      "  self._init_dates(dates, freq)\n",
      "c:\\Users\\surej\\OneDrive\\Desktop\\project\\.vene\\Lib\\site-packages\\statsmodels\\tsa\\base\\tsa_model.py:473: ValueWarning: No frequency information was provided, so inferred frequency W-MON will be used.\n",
      "  self._init_dates(dates, freq)\n",
      "c:\\Users\\surej\\OneDrive\\Desktop\\project\\.vene\\Lib\\site-packages\\statsmodels\\tsa\\base\\tsa_model.py:473: ValueWarning: No frequency information was provided, so inferred frequency W-MON will be used.\n",
      "  self._init_dates(dates, freq)\n"
     ]
    },
    {
     "name": "stdout",
     "output_type": "stream",
     "text": [
      "Generating forecast for pizza_name_id: calabrese_m\n"
     ]
    },
    {
     "name": "stderr",
     "output_type": "stream",
     "text": [
      "c:\\Users\\surej\\OneDrive\\Desktop\\project\\.vene\\Lib\\site-packages\\statsmodels\\tsa\\base\\tsa_model.py:473: ValueWarning: No frequency information was provided, so inferred frequency W-MON will be used.\n",
      "  self._init_dates(dates, freq)\n",
      "c:\\Users\\surej\\OneDrive\\Desktop\\project\\.vene\\Lib\\site-packages\\statsmodels\\tsa\\base\\tsa_model.py:473: ValueWarning: No frequency information was provided, so inferred frequency W-MON will be used.\n",
      "  self._init_dates(dates, freq)\n",
      "c:\\Users\\surej\\OneDrive\\Desktop\\project\\.vene\\Lib\\site-packages\\statsmodels\\tsa\\base\\tsa_model.py:473: ValueWarning: No frequency information was provided, so inferred frequency W-MON will be used.\n",
      "  self._init_dates(dates, freq)\n"
     ]
    },
    {
     "name": "stdout",
     "output_type": "stream",
     "text": [
      "Generating forecast for pizza_name_id: calabrese_s\n"
     ]
    },
    {
     "name": "stderr",
     "output_type": "stream",
     "text": [
      "c:\\Users\\surej\\OneDrive\\Desktop\\project\\.vene\\Lib\\site-packages\\statsmodels\\tsa\\base\\tsa_model.py:473: ValueWarning: A date index has been provided, but it has no associated frequency information and so will be ignored when e.g. forecasting.\n",
      "  self._init_dates(dates, freq)\n",
      "c:\\Users\\surej\\OneDrive\\Desktop\\project\\.vene\\Lib\\site-packages\\statsmodels\\tsa\\base\\tsa_model.py:473: ValueWarning: A date index has been provided, but it has no associated frequency information and so will be ignored when e.g. forecasting.\n",
      "  self._init_dates(dates, freq)\n",
      "c:\\Users\\surej\\OneDrive\\Desktop\\project\\.vene\\Lib\\site-packages\\statsmodels\\tsa\\base\\tsa_model.py:473: ValueWarning: A date index has been provided, but it has no associated frequency information and so will be ignored when e.g. forecasting.\n",
      "  self._init_dates(dates, freq)\n",
      "c:\\Users\\surej\\OneDrive\\Desktop\\project\\.vene\\Lib\\site-packages\\statsmodels\\tsa\\base\\tsa_model.py:837: ValueWarning: No supported index is available. Prediction results will be given with an integer index beginning at `start`.\n",
      "  return get_prediction_index(\n",
      "c:\\Users\\surej\\OneDrive\\Desktop\\project\\.vene\\Lib\\site-packages\\statsmodels\\tsa\\base\\tsa_model.py:837: FutureWarning: No supported index is available. In the next version, calling this method in a model without a supported index will result in an exception.\n",
      "  return get_prediction_index(\n",
      "c:\\Users\\surej\\OneDrive\\Desktop\\project\\.vene\\Lib\\site-packages\\statsmodels\\tsa\\base\\tsa_model.py:473: ValueWarning: No frequency information was provided, so inferred frequency W-MON will be used.\n",
      "  self._init_dates(dates, freq)\n",
      "c:\\Users\\surej\\OneDrive\\Desktop\\project\\.vene\\Lib\\site-packages\\statsmodels\\tsa\\base\\tsa_model.py:473: ValueWarning: No frequency information was provided, so inferred frequency W-MON will be used.\n",
      "  self._init_dates(dates, freq)\n",
      "c:\\Users\\surej\\OneDrive\\Desktop\\project\\.vene\\Lib\\site-packages\\statsmodels\\tsa\\base\\tsa_model.py:473: ValueWarning: No frequency information was provided, so inferred frequency W-MON will be used.\n",
      "  self._init_dates(dates, freq)\n"
     ]
    },
    {
     "name": "stdout",
     "output_type": "stream",
     "text": [
      "Generating forecast for pizza_name_id: cali_ckn_l\n",
      "Generating forecast for pizza_name_id: cali_ckn_m\n"
     ]
    },
    {
     "name": "stderr",
     "output_type": "stream",
     "text": [
      "c:\\Users\\surej\\OneDrive\\Desktop\\project\\.vene\\Lib\\site-packages\\statsmodels\\tsa\\base\\tsa_model.py:473: ValueWarning: No frequency information was provided, so inferred frequency W-MON will be used.\n",
      "  self._init_dates(dates, freq)\n",
      "c:\\Users\\surej\\OneDrive\\Desktop\\project\\.vene\\Lib\\site-packages\\statsmodels\\tsa\\base\\tsa_model.py:473: ValueWarning: No frequency information was provided, so inferred frequency W-MON will be used.\n",
      "  self._init_dates(dates, freq)\n",
      "c:\\Users\\surej\\OneDrive\\Desktop\\project\\.vene\\Lib\\site-packages\\statsmodels\\tsa\\base\\tsa_model.py:473: ValueWarning: No frequency information was provided, so inferred frequency W-MON will be used.\n",
      "  self._init_dates(dates, freq)\n"
     ]
    },
    {
     "name": "stdout",
     "output_type": "stream",
     "text": [
      "Generating forecast for pizza_name_id: cali_ckn_s\n"
     ]
    },
    {
     "name": "stderr",
     "output_type": "stream",
     "text": [
      "c:\\Users\\surej\\OneDrive\\Desktop\\project\\.vene\\Lib\\site-packages\\statsmodels\\tsa\\base\\tsa_model.py:473: ValueWarning: No frequency information was provided, so inferred frequency W-MON will be used.\n",
      "  self._init_dates(dates, freq)\n",
      "c:\\Users\\surej\\OneDrive\\Desktop\\project\\.vene\\Lib\\site-packages\\statsmodels\\tsa\\base\\tsa_model.py:473: ValueWarning: No frequency information was provided, so inferred frequency W-MON will be used.\n",
      "  self._init_dates(dates, freq)\n",
      "c:\\Users\\surej\\OneDrive\\Desktop\\project\\.vene\\Lib\\site-packages\\statsmodels\\tsa\\base\\tsa_model.py:473: ValueWarning: No frequency information was provided, so inferred frequency W-MON will be used.\n",
      "  self._init_dates(dates, freq)\n"
     ]
    },
    {
     "name": "stdout",
     "output_type": "stream",
     "text": [
      "Generating forecast for pizza_name_id: ckn_alfredo_l\n"
     ]
    },
    {
     "name": "stderr",
     "output_type": "stream",
     "text": [
      "c:\\Users\\surej\\OneDrive\\Desktop\\project\\.vene\\Lib\\site-packages\\statsmodels\\tsa\\base\\tsa_model.py:473: ValueWarning: A date index has been provided, but it has no associated frequency information and so will be ignored when e.g. forecasting.\n",
      "  self._init_dates(dates, freq)\n",
      "c:\\Users\\surej\\OneDrive\\Desktop\\project\\.vene\\Lib\\site-packages\\statsmodels\\tsa\\base\\tsa_model.py:473: ValueWarning: A date index has been provided, but it has no associated frequency information and so will be ignored when e.g. forecasting.\n",
      "  self._init_dates(dates, freq)\n",
      "c:\\Users\\surej\\OneDrive\\Desktop\\project\\.vene\\Lib\\site-packages\\statsmodels\\tsa\\base\\tsa_model.py:473: ValueWarning: A date index has been provided, but it has no associated frequency information and so will be ignored when e.g. forecasting.\n",
      "  self._init_dates(dates, freq)\n",
      "c:\\Users\\surej\\OneDrive\\Desktop\\project\\.vene\\Lib\\site-packages\\statsmodels\\tsa\\base\\tsa_model.py:837: ValueWarning: No supported index is available. Prediction results will be given with an integer index beginning at `start`.\n",
      "  return get_prediction_index(\n",
      "c:\\Users\\surej\\OneDrive\\Desktop\\project\\.vene\\Lib\\site-packages\\statsmodels\\tsa\\base\\tsa_model.py:837: FutureWarning: No supported index is available. In the next version, calling this method in a model without a supported index will result in an exception.\n",
      "  return get_prediction_index(\n",
      "c:\\Users\\surej\\OneDrive\\Desktop\\project\\.vene\\Lib\\site-packages\\statsmodels\\tsa\\base\\tsa_model.py:473: ValueWarning: No frequency information was provided, so inferred frequency W-MON will be used.\n",
      "  self._init_dates(dates, freq)\n",
      "c:\\Users\\surej\\OneDrive\\Desktop\\project\\.vene\\Lib\\site-packages\\statsmodels\\tsa\\base\\tsa_model.py:473: ValueWarning: No frequency information was provided, so inferred frequency W-MON will be used.\n",
      "  self._init_dates(dates, freq)\n",
      "c:\\Users\\surej\\OneDrive\\Desktop\\project\\.vene\\Lib\\site-packages\\statsmodels\\tsa\\base\\tsa_model.py:473: ValueWarning: No frequency information was provided, so inferred frequency W-MON will be used.\n",
      "  self._init_dates(dates, freq)\n"
     ]
    },
    {
     "name": "stdout",
     "output_type": "stream",
     "text": [
      "Generating forecast for pizza_name_id: ckn_alfredo_m\n",
      "Generating forecast for pizza_name_id: ckn_alfredo_s\n"
     ]
    },
    {
     "name": "stderr",
     "output_type": "stream",
     "text": [
      "c:\\Users\\surej\\OneDrive\\Desktop\\project\\.vene\\Lib\\site-packages\\statsmodels\\tsa\\base\\tsa_model.py:473: ValueWarning: A date index has been provided, but it has no associated frequency information and so will be ignored when e.g. forecasting.\n",
      "  self._init_dates(dates, freq)\n",
      "c:\\Users\\surej\\OneDrive\\Desktop\\project\\.vene\\Lib\\site-packages\\statsmodels\\tsa\\base\\tsa_model.py:473: ValueWarning: A date index has been provided, but it has no associated frequency information and so will be ignored when e.g. forecasting.\n",
      "  self._init_dates(dates, freq)\n",
      "c:\\Users\\surej\\OneDrive\\Desktop\\project\\.vene\\Lib\\site-packages\\statsmodels\\tsa\\base\\tsa_model.py:473: ValueWarning: A date index has been provided, but it has no associated frequency information and so will be ignored when e.g. forecasting.\n",
      "  self._init_dates(dates, freq)\n",
      "c:\\Users\\surej\\OneDrive\\Desktop\\project\\.vene\\Lib\\site-packages\\statsmodels\\tsa\\base\\tsa_model.py:837: ValueWarning: No supported index is available. Prediction results will be given with an integer index beginning at `start`.\n",
      "  return get_prediction_index(\n",
      "c:\\Users\\surej\\OneDrive\\Desktop\\project\\.vene\\Lib\\site-packages\\statsmodels\\tsa\\base\\tsa_model.py:837: FutureWarning: No supported index is available. In the next version, calling this method in a model without a supported index will result in an exception.\n",
      "  return get_prediction_index(\n",
      "c:\\Users\\surej\\OneDrive\\Desktop\\project\\.vene\\Lib\\site-packages\\statsmodels\\tsa\\base\\tsa_model.py:473: ValueWarning: No frequency information was provided, so inferred frequency W-MON will be used.\n",
      "  self._init_dates(dates, freq)\n",
      "c:\\Users\\surej\\OneDrive\\Desktop\\project\\.vene\\Lib\\site-packages\\statsmodels\\tsa\\base\\tsa_model.py:473: ValueWarning: No frequency information was provided, so inferred frequency W-MON will be used.\n",
      "  self._init_dates(dates, freq)\n",
      "c:\\Users\\surej\\OneDrive\\Desktop\\project\\.vene\\Lib\\site-packages\\statsmodels\\tsa\\base\\tsa_model.py:473: ValueWarning: No frequency information was provided, so inferred frequency W-MON will be used.\n",
      "  self._init_dates(dates, freq)\n"
     ]
    },
    {
     "name": "stdout",
     "output_type": "stream",
     "text": [
      "Generating forecast for pizza_name_id: ckn_pesto_l\n",
      "Generating forecast for pizza_name_id: ckn_pesto_m\n"
     ]
    },
    {
     "name": "stderr",
     "output_type": "stream",
     "text": [
      "c:\\Users\\surej\\OneDrive\\Desktop\\project\\.vene\\Lib\\site-packages\\statsmodels\\tsa\\base\\tsa_model.py:473: ValueWarning: No frequency information was provided, so inferred frequency W-MON will be used.\n",
      "  self._init_dates(dates, freq)\n",
      "c:\\Users\\surej\\OneDrive\\Desktop\\project\\.vene\\Lib\\site-packages\\statsmodels\\tsa\\base\\tsa_model.py:473: ValueWarning: No frequency information was provided, so inferred frequency W-MON will be used.\n",
      "  self._init_dates(dates, freq)\n",
      "c:\\Users\\surej\\OneDrive\\Desktop\\project\\.vene\\Lib\\site-packages\\statsmodels\\tsa\\base\\tsa_model.py:473: ValueWarning: No frequency information was provided, so inferred frequency W-MON will be used.\n",
      "  self._init_dates(dates, freq)\n"
     ]
    },
    {
     "name": "stdout",
     "output_type": "stream",
     "text": [
      "Generating forecast for pizza_name_id: ckn_pesto_s\n"
     ]
    },
    {
     "name": "stderr",
     "output_type": "stream",
     "text": [
      "c:\\Users\\surej\\OneDrive\\Desktop\\project\\.vene\\Lib\\site-packages\\statsmodels\\tsa\\base\\tsa_model.py:473: ValueWarning: No frequency information was provided, so inferred frequency W-MON will be used.\n",
      "  self._init_dates(dates, freq)\n",
      "c:\\Users\\surej\\OneDrive\\Desktop\\project\\.vene\\Lib\\site-packages\\statsmodels\\tsa\\base\\tsa_model.py:473: ValueWarning: No frequency information was provided, so inferred frequency W-MON will be used.\n",
      "  self._init_dates(dates, freq)\n",
      "c:\\Users\\surej\\OneDrive\\Desktop\\project\\.vene\\Lib\\site-packages\\statsmodels\\tsa\\base\\tsa_model.py:473: ValueWarning: No frequency information was provided, so inferred frequency W-MON will be used.\n",
      "  self._init_dates(dates, freq)\n"
     ]
    },
    {
     "name": "stdout",
     "output_type": "stream",
     "text": [
      "Generating forecast for pizza_name_id: classic_dlx_l\n"
     ]
    },
    {
     "name": "stderr",
     "output_type": "stream",
     "text": [
      "c:\\Users\\surej\\OneDrive\\Desktop\\project\\.vene\\Lib\\site-packages\\statsmodels\\tsa\\base\\tsa_model.py:473: ValueWarning: No frequency information was provided, so inferred frequency W-MON will be used.\n",
      "  self._init_dates(dates, freq)\n",
      "c:\\Users\\surej\\OneDrive\\Desktop\\project\\.vene\\Lib\\site-packages\\statsmodels\\tsa\\base\\tsa_model.py:473: ValueWarning: No frequency information was provided, so inferred frequency W-MON will be used.\n",
      "  self._init_dates(dates, freq)\n",
      "c:\\Users\\surej\\OneDrive\\Desktop\\project\\.vene\\Lib\\site-packages\\statsmodels\\tsa\\base\\tsa_model.py:473: ValueWarning: No frequency information was provided, so inferred frequency W-MON will be used.\n",
      "  self._init_dates(dates, freq)\n"
     ]
    },
    {
     "name": "stdout",
     "output_type": "stream",
     "text": [
      "Generating forecast for pizza_name_id: classic_dlx_m\n"
     ]
    },
    {
     "name": "stderr",
     "output_type": "stream",
     "text": [
      "c:\\Users\\surej\\OneDrive\\Desktop\\project\\.vene\\Lib\\site-packages\\statsmodels\\tsa\\base\\tsa_model.py:473: ValueWarning: No frequency information was provided, so inferred frequency W-MON will be used.\n",
      "  self._init_dates(dates, freq)\n",
      "c:\\Users\\surej\\OneDrive\\Desktop\\project\\.vene\\Lib\\site-packages\\statsmodels\\tsa\\base\\tsa_model.py:473: ValueWarning: No frequency information was provided, so inferred frequency W-MON will be used.\n",
      "  self._init_dates(dates, freq)\n",
      "c:\\Users\\surej\\OneDrive\\Desktop\\project\\.vene\\Lib\\site-packages\\statsmodels\\tsa\\base\\tsa_model.py:473: ValueWarning: No frequency information was provided, so inferred frequency W-MON will be used.\n",
      "  self._init_dates(dates, freq)\n"
     ]
    },
    {
     "name": "stdout",
     "output_type": "stream",
     "text": [
      "Generating forecast for pizza_name_id: classic_dlx_s\n"
     ]
    },
    {
     "name": "stderr",
     "output_type": "stream",
     "text": [
      "c:\\Users\\surej\\OneDrive\\Desktop\\project\\.vene\\Lib\\site-packages\\statsmodels\\tsa\\base\\tsa_model.py:473: ValueWarning: No frequency information was provided, so inferred frequency W-MON will be used.\n",
      "  self._init_dates(dates, freq)\n",
      "c:\\Users\\surej\\OneDrive\\Desktop\\project\\.vene\\Lib\\site-packages\\statsmodels\\tsa\\base\\tsa_model.py:473: ValueWarning: No frequency information was provided, so inferred frequency W-MON will be used.\n",
      "  self._init_dates(dates, freq)\n",
      "c:\\Users\\surej\\OneDrive\\Desktop\\project\\.vene\\Lib\\site-packages\\statsmodels\\tsa\\base\\tsa_model.py:473: ValueWarning: No frequency information was provided, so inferred frequency W-MON will be used.\n",
      "  self._init_dates(dates, freq)\n"
     ]
    },
    {
     "name": "stdout",
     "output_type": "stream",
     "text": [
      "Generating forecast for pizza_name_id: five_cheese_l\n"
     ]
    },
    {
     "name": "stderr",
     "output_type": "stream",
     "text": [
      "c:\\Users\\surej\\OneDrive\\Desktop\\project\\.vene\\Lib\\site-packages\\statsmodels\\tsa\\base\\tsa_model.py:473: ValueWarning: No frequency information was provided, so inferred frequency W-MON will be used.\n",
      "  self._init_dates(dates, freq)\n",
      "c:\\Users\\surej\\OneDrive\\Desktop\\project\\.vene\\Lib\\site-packages\\statsmodels\\tsa\\base\\tsa_model.py:473: ValueWarning: No frequency information was provided, so inferred frequency W-MON will be used.\n",
      "  self._init_dates(dates, freq)\n",
      "c:\\Users\\surej\\OneDrive\\Desktop\\project\\.vene\\Lib\\site-packages\\statsmodels\\tsa\\base\\tsa_model.py:473: ValueWarning: No frequency information was provided, so inferred frequency W-MON will be used.\n",
      "  self._init_dates(dates, freq)\n"
     ]
    },
    {
     "name": "stdout",
     "output_type": "stream",
     "text": [
      "Generating forecast for pizza_name_id: four_cheese_l\n"
     ]
    },
    {
     "name": "stderr",
     "output_type": "stream",
     "text": [
      "c:\\Users\\surej\\OneDrive\\Desktop\\project\\.vene\\Lib\\site-packages\\statsmodels\\tsa\\base\\tsa_model.py:473: ValueWarning: No frequency information was provided, so inferred frequency W-MON will be used.\n",
      "  self._init_dates(dates, freq)\n",
      "c:\\Users\\surej\\OneDrive\\Desktop\\project\\.vene\\Lib\\site-packages\\statsmodels\\tsa\\base\\tsa_model.py:473: ValueWarning: No frequency information was provided, so inferred frequency W-MON will be used.\n",
      "  self._init_dates(dates, freq)\n",
      "c:\\Users\\surej\\OneDrive\\Desktop\\project\\.vene\\Lib\\site-packages\\statsmodels\\tsa\\base\\tsa_model.py:473: ValueWarning: No frequency information was provided, so inferred frequency W-MON will be used.\n",
      "  self._init_dates(dates, freq)\n"
     ]
    },
    {
     "name": "stdout",
     "output_type": "stream",
     "text": [
      "Generating forecast for pizza_name_id: four_cheese_m\n"
     ]
    },
    {
     "name": "stderr",
     "output_type": "stream",
     "text": [
      "c:\\Users\\surej\\OneDrive\\Desktop\\project\\.vene\\Lib\\site-packages\\statsmodels\\tsa\\base\\tsa_model.py:473: ValueWarning: No frequency information was provided, so inferred frequency W-MON will be used.\n",
      "  self._init_dates(dates, freq)\n",
      "c:\\Users\\surej\\OneDrive\\Desktop\\project\\.vene\\Lib\\site-packages\\statsmodels\\tsa\\base\\tsa_model.py:473: ValueWarning: No frequency information was provided, so inferred frequency W-MON will be used.\n",
      "  self._init_dates(dates, freq)\n",
      "c:\\Users\\surej\\OneDrive\\Desktop\\project\\.vene\\Lib\\site-packages\\statsmodels\\tsa\\base\\tsa_model.py:473: ValueWarning: No frequency information was provided, so inferred frequency W-MON will be used.\n",
      "  self._init_dates(dates, freq)\n"
     ]
    },
    {
     "name": "stdout",
     "output_type": "stream",
     "text": [
      "Generating forecast for pizza_name_id: green_garden_l\n"
     ]
    },
    {
     "name": "stderr",
     "output_type": "stream",
     "text": [
      "c:\\Users\\surej\\OneDrive\\Desktop\\project\\.vene\\Lib\\site-packages\\statsmodels\\tsa\\base\\tsa_model.py:473: ValueWarning: A date index has been provided, but it has no associated frequency information and so will be ignored when e.g. forecasting.\n",
      "  self._init_dates(dates, freq)\n",
      "c:\\Users\\surej\\OneDrive\\Desktop\\project\\.vene\\Lib\\site-packages\\statsmodels\\tsa\\base\\tsa_model.py:473: ValueWarning: A date index has been provided, but it has no associated frequency information and so will be ignored when e.g. forecasting.\n",
      "  self._init_dates(dates, freq)\n",
      "c:\\Users\\surej\\OneDrive\\Desktop\\project\\.vene\\Lib\\site-packages\\statsmodels\\tsa\\base\\tsa_model.py:473: ValueWarning: A date index has been provided, but it has no associated frequency information and so will be ignored when e.g. forecasting.\n",
      "  self._init_dates(dates, freq)\n",
      "c:\\Users\\surej\\OneDrive\\Desktop\\project\\.vene\\Lib\\site-packages\\statsmodels\\tsa\\base\\tsa_model.py:837: ValueWarning: No supported index is available. Prediction results will be given with an integer index beginning at `start`.\n",
      "  return get_prediction_index(\n",
      "c:\\Users\\surej\\OneDrive\\Desktop\\project\\.vene\\Lib\\site-packages\\statsmodels\\tsa\\base\\tsa_model.py:837: FutureWarning: No supported index is available. In the next version, calling this method in a model without a supported index will result in an exception.\n",
      "  return get_prediction_index(\n",
      "c:\\Users\\surej\\OneDrive\\Desktop\\project\\.vene\\Lib\\site-packages\\statsmodels\\tsa\\base\\tsa_model.py:473: ValueWarning: No frequency information was provided, so inferred frequency W-MON will be used.\n",
      "  self._init_dates(dates, freq)\n",
      "c:\\Users\\surej\\OneDrive\\Desktop\\project\\.vene\\Lib\\site-packages\\statsmodels\\tsa\\base\\tsa_model.py:473: ValueWarning: No frequency information was provided, so inferred frequency W-MON will be used.\n",
      "  self._init_dates(dates, freq)\n",
      "c:\\Users\\surej\\OneDrive\\Desktop\\project\\.vene\\Lib\\site-packages\\statsmodels\\tsa\\base\\tsa_model.py:473: ValueWarning: No frequency information was provided, so inferred frequency W-MON will be used.\n",
      "  self._init_dates(dates, freq)\n"
     ]
    },
    {
     "name": "stdout",
     "output_type": "stream",
     "text": [
      "Generating forecast for pizza_name_id: green_garden_m\n",
      "Generating forecast for pizza_name_id: green_garden_s\n"
     ]
    },
    {
     "name": "stderr",
     "output_type": "stream",
     "text": [
      "c:\\Users\\surej\\OneDrive\\Desktop\\project\\.vene\\Lib\\site-packages\\statsmodels\\tsa\\base\\tsa_model.py:473: ValueWarning: No frequency information was provided, so inferred frequency W-MON will be used.\n",
      "  self._init_dates(dates, freq)\n",
      "c:\\Users\\surej\\OneDrive\\Desktop\\project\\.vene\\Lib\\site-packages\\statsmodels\\tsa\\base\\tsa_model.py:473: ValueWarning: No frequency information was provided, so inferred frequency W-MON will be used.\n",
      "  self._init_dates(dates, freq)\n",
      "c:\\Users\\surej\\OneDrive\\Desktop\\project\\.vene\\Lib\\site-packages\\statsmodels\\tsa\\base\\tsa_model.py:473: ValueWarning: No frequency information was provided, so inferred frequency W-MON will be used.\n",
      "  self._init_dates(dates, freq)\n"
     ]
    },
    {
     "name": "stdout",
     "output_type": "stream",
     "text": [
      "Generating forecast for pizza_name_id: hawaiian_l\n"
     ]
    },
    {
     "name": "stderr",
     "output_type": "stream",
     "text": [
      "c:\\Users\\surej\\OneDrive\\Desktop\\project\\.vene\\Lib\\site-packages\\statsmodels\\tsa\\base\\tsa_model.py:473: ValueWarning: No frequency information was provided, so inferred frequency W-MON will be used.\n",
      "  self._init_dates(dates, freq)\n",
      "c:\\Users\\surej\\OneDrive\\Desktop\\project\\.vene\\Lib\\site-packages\\statsmodels\\tsa\\base\\tsa_model.py:473: ValueWarning: No frequency information was provided, so inferred frequency W-MON will be used.\n",
      "  self._init_dates(dates, freq)\n",
      "c:\\Users\\surej\\OneDrive\\Desktop\\project\\.vene\\Lib\\site-packages\\statsmodels\\tsa\\base\\tsa_model.py:473: ValueWarning: No frequency information was provided, so inferred frequency W-MON will be used.\n",
      "  self._init_dates(dates, freq)\n"
     ]
    },
    {
     "name": "stdout",
     "output_type": "stream",
     "text": [
      "Generating forecast for pizza_name_id: hawaiian_m\n"
     ]
    },
    {
     "name": "stderr",
     "output_type": "stream",
     "text": [
      "c:\\Users\\surej\\OneDrive\\Desktop\\project\\.vene\\Lib\\site-packages\\statsmodels\\tsa\\base\\tsa_model.py:473: ValueWarning: No frequency information was provided, so inferred frequency W-MON will be used.\n",
      "  self._init_dates(dates, freq)\n",
      "c:\\Users\\surej\\OneDrive\\Desktop\\project\\.vene\\Lib\\site-packages\\statsmodels\\tsa\\base\\tsa_model.py:473: ValueWarning: No frequency information was provided, so inferred frequency W-MON will be used.\n",
      "  self._init_dates(dates, freq)\n",
      "c:\\Users\\surej\\OneDrive\\Desktop\\project\\.vene\\Lib\\site-packages\\statsmodels\\tsa\\base\\tsa_model.py:473: ValueWarning: No frequency information was provided, so inferred frequency W-MON will be used.\n",
      "  self._init_dates(dates, freq)\n"
     ]
    },
    {
     "name": "stdout",
     "output_type": "stream",
     "text": [
      "Generating forecast for pizza_name_id: hawaiian_s\n"
     ]
    },
    {
     "name": "stderr",
     "output_type": "stream",
     "text": [
      "c:\\Users\\surej\\OneDrive\\Desktop\\project\\.vene\\Lib\\site-packages\\statsmodels\\tsa\\base\\tsa_model.py:473: ValueWarning: No frequency information was provided, so inferred frequency W-MON will be used.\n",
      "  self._init_dates(dates, freq)\n",
      "c:\\Users\\surej\\OneDrive\\Desktop\\project\\.vene\\Lib\\site-packages\\statsmodels\\tsa\\base\\tsa_model.py:473: ValueWarning: No frequency information was provided, so inferred frequency W-MON will be used.\n",
      "  self._init_dates(dates, freq)\n",
      "c:\\Users\\surej\\OneDrive\\Desktop\\project\\.vene\\Lib\\site-packages\\statsmodels\\tsa\\base\\tsa_model.py:473: ValueWarning: No frequency information was provided, so inferred frequency W-MON will be used.\n",
      "  self._init_dates(dates, freq)\n"
     ]
    },
    {
     "name": "stdout",
     "output_type": "stream",
     "text": [
      "Generating forecast for pizza_name_id: ital_cpcllo_l\n"
     ]
    },
    {
     "name": "stderr",
     "output_type": "stream",
     "text": [
      "c:\\Users\\surej\\OneDrive\\Desktop\\project\\.vene\\Lib\\site-packages\\statsmodels\\tsa\\base\\tsa_model.py:473: ValueWarning: No frequency information was provided, so inferred frequency W-MON will be used.\n",
      "  self._init_dates(dates, freq)\n",
      "c:\\Users\\surej\\OneDrive\\Desktop\\project\\.vene\\Lib\\site-packages\\statsmodels\\tsa\\base\\tsa_model.py:473: ValueWarning: No frequency information was provided, so inferred frequency W-MON will be used.\n",
      "  self._init_dates(dates, freq)\n",
      "c:\\Users\\surej\\OneDrive\\Desktop\\project\\.vene\\Lib\\site-packages\\statsmodels\\tsa\\base\\tsa_model.py:473: ValueWarning: No frequency information was provided, so inferred frequency W-MON will be used.\n",
      "  self._init_dates(dates, freq)\n"
     ]
    },
    {
     "name": "stdout",
     "output_type": "stream",
     "text": [
      "Generating forecast for pizza_name_id: ital_cpcllo_m\n"
     ]
    },
    {
     "name": "stderr",
     "output_type": "stream",
     "text": [
      "c:\\Users\\surej\\OneDrive\\Desktop\\project\\.vene\\Lib\\site-packages\\statsmodels\\tsa\\base\\tsa_model.py:473: ValueWarning: No frequency information was provided, so inferred frequency W-MON will be used.\n",
      "  self._init_dates(dates, freq)\n",
      "c:\\Users\\surej\\OneDrive\\Desktop\\project\\.vene\\Lib\\site-packages\\statsmodels\\tsa\\base\\tsa_model.py:473: ValueWarning: No frequency information was provided, so inferred frequency W-MON will be used.\n",
      "  self._init_dates(dates, freq)\n",
      "c:\\Users\\surej\\OneDrive\\Desktop\\project\\.vene\\Lib\\site-packages\\statsmodels\\tsa\\base\\tsa_model.py:473: ValueWarning: No frequency information was provided, so inferred frequency W-MON will be used.\n",
      "  self._init_dates(dates, freq)\n"
     ]
    },
    {
     "name": "stdout",
     "output_type": "stream",
     "text": [
      "Generating forecast for pizza_name_id: ital_cpcllo_s\n"
     ]
    },
    {
     "name": "stderr",
     "output_type": "stream",
     "text": [
      "c:\\Users\\surej\\OneDrive\\Desktop\\project\\.vene\\Lib\\site-packages\\statsmodels\\tsa\\base\\tsa_model.py:473: ValueWarning: No frequency information was provided, so inferred frequency W-MON will be used.\n",
      "  self._init_dates(dates, freq)\n",
      "c:\\Users\\surej\\OneDrive\\Desktop\\project\\.vene\\Lib\\site-packages\\statsmodels\\tsa\\base\\tsa_model.py:473: ValueWarning: No frequency information was provided, so inferred frequency W-MON will be used.\n",
      "  self._init_dates(dates, freq)\n",
      "c:\\Users\\surej\\OneDrive\\Desktop\\project\\.vene\\Lib\\site-packages\\statsmodels\\tsa\\base\\tsa_model.py:473: ValueWarning: No frequency information was provided, so inferred frequency W-MON will be used.\n",
      "  self._init_dates(dates, freq)\n"
     ]
    },
    {
     "name": "stdout",
     "output_type": "stream",
     "text": [
      "Generating forecast for pizza_name_id: ital_supr_l\n"
     ]
    },
    {
     "name": "stderr",
     "output_type": "stream",
     "text": [
      "c:\\Users\\surej\\OneDrive\\Desktop\\project\\.vene\\Lib\\site-packages\\statsmodels\\tsa\\base\\tsa_model.py:473: ValueWarning: No frequency information was provided, so inferred frequency W-MON will be used.\n",
      "  self._init_dates(dates, freq)\n",
      "c:\\Users\\surej\\OneDrive\\Desktop\\project\\.vene\\Lib\\site-packages\\statsmodels\\tsa\\base\\tsa_model.py:473: ValueWarning: No frequency information was provided, so inferred frequency W-MON will be used.\n",
      "  self._init_dates(dates, freq)\n",
      "c:\\Users\\surej\\OneDrive\\Desktop\\project\\.vene\\Lib\\site-packages\\statsmodels\\tsa\\base\\tsa_model.py:473: ValueWarning: No frequency information was provided, so inferred frequency W-MON will be used.\n",
      "  self._init_dates(dates, freq)\n"
     ]
    },
    {
     "name": "stdout",
     "output_type": "stream",
     "text": [
      "Generating forecast for pizza_name_id: ital_supr_m\n"
     ]
    },
    {
     "name": "stderr",
     "output_type": "stream",
     "text": [
      "c:\\Users\\surej\\OneDrive\\Desktop\\project\\.vene\\Lib\\site-packages\\statsmodels\\tsa\\base\\tsa_model.py:473: ValueWarning: No frequency information was provided, so inferred frequency W-MON will be used.\n",
      "  self._init_dates(dates, freq)\n",
      "c:\\Users\\surej\\OneDrive\\Desktop\\project\\.vene\\Lib\\site-packages\\statsmodels\\tsa\\base\\tsa_model.py:473: ValueWarning: No frequency information was provided, so inferred frequency W-MON will be used.\n",
      "  self._init_dates(dates, freq)\n",
      "c:\\Users\\surej\\OneDrive\\Desktop\\project\\.vene\\Lib\\site-packages\\statsmodels\\tsa\\base\\tsa_model.py:473: ValueWarning: No frequency information was provided, so inferred frequency W-MON will be used.\n",
      "  self._init_dates(dates, freq)\n"
     ]
    },
    {
     "name": "stdout",
     "output_type": "stream",
     "text": [
      "Generating forecast for pizza_name_id: ital_supr_s\n"
     ]
    },
    {
     "name": "stderr",
     "output_type": "stream",
     "text": [
      "c:\\Users\\surej\\OneDrive\\Desktop\\project\\.vene\\Lib\\site-packages\\statsmodels\\tsa\\base\\tsa_model.py:473: ValueWarning: A date index has been provided, but it has no associated frequency information and so will be ignored when e.g. forecasting.\n",
      "  self._init_dates(dates, freq)\n",
      "c:\\Users\\surej\\OneDrive\\Desktop\\project\\.vene\\Lib\\site-packages\\statsmodels\\tsa\\base\\tsa_model.py:473: ValueWarning: A date index has been provided, but it has no associated frequency information and so will be ignored when e.g. forecasting.\n",
      "  self._init_dates(dates, freq)\n",
      "c:\\Users\\surej\\OneDrive\\Desktop\\project\\.vene\\Lib\\site-packages\\statsmodels\\tsa\\base\\tsa_model.py:473: ValueWarning: A date index has been provided, but it has no associated frequency information and so will be ignored when e.g. forecasting.\n",
      "  self._init_dates(dates, freq)\n",
      "c:\\Users\\surej\\OneDrive\\Desktop\\project\\.vene\\Lib\\site-packages\\statsmodels\\tsa\\base\\tsa_model.py:837: ValueWarning: No supported index is available. Prediction results will be given with an integer index beginning at `start`.\n",
      "  return get_prediction_index(\n",
      "c:\\Users\\surej\\OneDrive\\Desktop\\project\\.vene\\Lib\\site-packages\\statsmodels\\tsa\\base\\tsa_model.py:837: FutureWarning: No supported index is available. In the next version, calling this method in a model without a supported index will result in an exception.\n",
      "  return get_prediction_index(\n",
      "c:\\Users\\surej\\OneDrive\\Desktop\\project\\.vene\\Lib\\site-packages\\statsmodels\\tsa\\base\\tsa_model.py:473: ValueWarning: No frequency information was provided, so inferred frequency W-MON will be used.\n",
      "  self._init_dates(dates, freq)\n",
      "c:\\Users\\surej\\OneDrive\\Desktop\\project\\.vene\\Lib\\site-packages\\statsmodels\\tsa\\base\\tsa_model.py:473: ValueWarning: No frequency information was provided, so inferred frequency W-MON will be used.\n",
      "  self._init_dates(dates, freq)\n",
      "c:\\Users\\surej\\OneDrive\\Desktop\\project\\.vene\\Lib\\site-packages\\statsmodels\\tsa\\base\\tsa_model.py:473: ValueWarning: No frequency information was provided, so inferred frequency W-MON will be used.\n",
      "  self._init_dates(dates, freq)\n"
     ]
    },
    {
     "name": "stdout",
     "output_type": "stream",
     "text": [
      "Generating forecast for pizza_name_id: ital_veggie_l\n",
      "Generating forecast for pizza_name_id: ital_veggie_m\n"
     ]
    },
    {
     "name": "stderr",
     "output_type": "stream",
     "text": [
      "c:\\Users\\surej\\OneDrive\\Desktop\\project\\.vene\\Lib\\site-packages\\statsmodels\\tsa\\base\\tsa_model.py:473: ValueWarning: No frequency information was provided, so inferred frequency W-MON will be used.\n",
      "  self._init_dates(dates, freq)\n",
      "c:\\Users\\surej\\OneDrive\\Desktop\\project\\.vene\\Lib\\site-packages\\statsmodels\\tsa\\base\\tsa_model.py:473: ValueWarning: No frequency information was provided, so inferred frequency W-MON will be used.\n",
      "  self._init_dates(dates, freq)\n",
      "c:\\Users\\surej\\OneDrive\\Desktop\\project\\.vene\\Lib\\site-packages\\statsmodels\\tsa\\base\\tsa_model.py:473: ValueWarning: No frequency information was provided, so inferred frequency W-MON will be used.\n",
      "  self._init_dates(dates, freq)\n"
     ]
    },
    {
     "name": "stdout",
     "output_type": "stream",
     "text": [
      "Generating forecast for pizza_name_id: ital_veggie_s\n"
     ]
    },
    {
     "name": "stderr",
     "output_type": "stream",
     "text": [
      "c:\\Users\\surej\\OneDrive\\Desktop\\project\\.vene\\Lib\\site-packages\\statsmodels\\tsa\\base\\tsa_model.py:473: ValueWarning: No frequency information was provided, so inferred frequency W-MON will be used.\n",
      "  self._init_dates(dates, freq)\n",
      "c:\\Users\\surej\\OneDrive\\Desktop\\project\\.vene\\Lib\\site-packages\\statsmodels\\tsa\\base\\tsa_model.py:473: ValueWarning: No frequency information was provided, so inferred frequency W-MON will be used.\n",
      "  self._init_dates(dates, freq)\n",
      "c:\\Users\\surej\\OneDrive\\Desktop\\project\\.vene\\Lib\\site-packages\\statsmodels\\tsa\\base\\tsa_model.py:473: ValueWarning: No frequency information was provided, so inferred frequency W-MON will be used.\n",
      "  self._init_dates(dates, freq)\n"
     ]
    },
    {
     "name": "stdout",
     "output_type": "stream",
     "text": [
      "Generating forecast for pizza_name_id: mediterraneo_l\n"
     ]
    },
    {
     "name": "stderr",
     "output_type": "stream",
     "text": [
      "c:\\Users\\surej\\OneDrive\\Desktop\\project\\.vene\\Lib\\site-packages\\statsmodels\\tsa\\base\\tsa_model.py:473: ValueWarning: No frequency information was provided, so inferred frequency W-MON will be used.\n",
      "  self._init_dates(dates, freq)\n",
      "c:\\Users\\surej\\OneDrive\\Desktop\\project\\.vene\\Lib\\site-packages\\statsmodels\\tsa\\base\\tsa_model.py:473: ValueWarning: No frequency information was provided, so inferred frequency W-MON will be used.\n",
      "  self._init_dates(dates, freq)\n",
      "c:\\Users\\surej\\OneDrive\\Desktop\\project\\.vene\\Lib\\site-packages\\statsmodels\\tsa\\base\\tsa_model.py:473: ValueWarning: No frequency information was provided, so inferred frequency W-MON will be used.\n",
      "  self._init_dates(dates, freq)\n"
     ]
    },
    {
     "name": "stdout",
     "output_type": "stream",
     "text": [
      "Generating forecast for pizza_name_id: mediterraneo_m\n"
     ]
    },
    {
     "name": "stderr",
     "output_type": "stream",
     "text": [
      "c:\\Users\\surej\\OneDrive\\Desktop\\project\\.vene\\Lib\\site-packages\\statsmodels\\tsa\\base\\tsa_model.py:473: ValueWarning: A date index has been provided, but it has no associated frequency information and so will be ignored when e.g. forecasting.\n",
      "  self._init_dates(dates, freq)\n",
      "c:\\Users\\surej\\OneDrive\\Desktop\\project\\.vene\\Lib\\site-packages\\statsmodels\\tsa\\base\\tsa_model.py:473: ValueWarning: A date index has been provided, but it has no associated frequency information and so will be ignored when e.g. forecasting.\n",
      "  self._init_dates(dates, freq)\n",
      "c:\\Users\\surej\\OneDrive\\Desktop\\project\\.vene\\Lib\\site-packages\\statsmodels\\tsa\\base\\tsa_model.py:473: ValueWarning: A date index has been provided, but it has no associated frequency information and so will be ignored when e.g. forecasting.\n",
      "  self._init_dates(dates, freq)\n",
      "c:\\Users\\surej\\OneDrive\\Desktop\\project\\.vene\\Lib\\site-packages\\statsmodels\\tsa\\base\\tsa_model.py:837: ValueWarning: No supported index is available. Prediction results will be given with an integer index beginning at `start`.\n",
      "  return get_prediction_index(\n",
      "c:\\Users\\surej\\OneDrive\\Desktop\\project\\.vene\\Lib\\site-packages\\statsmodels\\tsa\\base\\tsa_model.py:837: FutureWarning: No supported index is available. In the next version, calling this method in a model without a supported index will result in an exception.\n",
      "  return get_prediction_index(\n",
      "c:\\Users\\surej\\OneDrive\\Desktop\\project\\.vene\\Lib\\site-packages\\statsmodels\\tsa\\base\\tsa_model.py:473: ValueWarning: No frequency information was provided, so inferred frequency W-MON will be used.\n",
      "  self._init_dates(dates, freq)\n",
      "c:\\Users\\surej\\OneDrive\\Desktop\\project\\.vene\\Lib\\site-packages\\statsmodels\\tsa\\base\\tsa_model.py:473: ValueWarning: No frequency information was provided, so inferred frequency W-MON will be used.\n",
      "  self._init_dates(dates, freq)\n",
      "c:\\Users\\surej\\OneDrive\\Desktop\\project\\.vene\\Lib\\site-packages\\statsmodels\\tsa\\base\\tsa_model.py:473: ValueWarning: No frequency information was provided, so inferred frequency W-MON will be used.\n",
      "  self._init_dates(dates, freq)\n"
     ]
    },
    {
     "name": "stdout",
     "output_type": "stream",
     "text": [
      "Generating forecast for pizza_name_id: mediterraneo_s\n",
      "Generating forecast for pizza_name_id: mexicana_l\n"
     ]
    },
    {
     "name": "stderr",
     "output_type": "stream",
     "text": [
      "c:\\Users\\surej\\OneDrive\\Desktop\\project\\.vene\\Lib\\site-packages\\statsmodels\\tsa\\base\\tsa_model.py:473: ValueWarning: No frequency information was provided, so inferred frequency W-MON will be used.\n",
      "  self._init_dates(dates, freq)\n",
      "c:\\Users\\surej\\OneDrive\\Desktop\\project\\.vene\\Lib\\site-packages\\statsmodels\\tsa\\base\\tsa_model.py:473: ValueWarning: No frequency information was provided, so inferred frequency W-MON will be used.\n",
      "  self._init_dates(dates, freq)\n",
      "c:\\Users\\surej\\OneDrive\\Desktop\\project\\.vene\\Lib\\site-packages\\statsmodels\\tsa\\base\\tsa_model.py:473: ValueWarning: No frequency information was provided, so inferred frequency W-MON will be used.\n",
      "  self._init_dates(dates, freq)\n"
     ]
    },
    {
     "name": "stdout",
     "output_type": "stream",
     "text": [
      "Generating forecast for pizza_name_id: mexicana_m\n"
     ]
    },
    {
     "name": "stderr",
     "output_type": "stream",
     "text": [
      "c:\\Users\\surej\\OneDrive\\Desktop\\project\\.vene\\Lib\\site-packages\\statsmodels\\tsa\\base\\tsa_model.py:473: ValueWarning: No frequency information was provided, so inferred frequency W-MON will be used.\n",
      "  self._init_dates(dates, freq)\n",
      "c:\\Users\\surej\\OneDrive\\Desktop\\project\\.vene\\Lib\\site-packages\\statsmodels\\tsa\\base\\tsa_model.py:473: ValueWarning: No frequency information was provided, so inferred frequency W-MON will be used.\n",
      "  self._init_dates(dates, freq)\n",
      "c:\\Users\\surej\\OneDrive\\Desktop\\project\\.vene\\Lib\\site-packages\\statsmodels\\tsa\\base\\tsa_model.py:473: ValueWarning: No frequency information was provided, so inferred frequency W-MON will be used.\n",
      "  self._init_dates(dates, freq)\n"
     ]
    },
    {
     "name": "stdout",
     "output_type": "stream",
     "text": [
      "Generating forecast for pizza_name_id: mexicana_s\n"
     ]
    },
    {
     "name": "stderr",
     "output_type": "stream",
     "text": [
      "c:\\Users\\surej\\OneDrive\\Desktop\\project\\.vene\\Lib\\site-packages\\statsmodels\\tsa\\base\\tsa_model.py:473: ValueWarning: A date index has been provided, but it has no associated frequency information and so will be ignored when e.g. forecasting.\n",
      "  self._init_dates(dates, freq)\n",
      "c:\\Users\\surej\\OneDrive\\Desktop\\project\\.vene\\Lib\\site-packages\\statsmodels\\tsa\\base\\tsa_model.py:473: ValueWarning: A date index has been provided, but it has no associated frequency information and so will be ignored when e.g. forecasting.\n",
      "  self._init_dates(dates, freq)\n",
      "c:\\Users\\surej\\OneDrive\\Desktop\\project\\.vene\\Lib\\site-packages\\statsmodels\\tsa\\base\\tsa_model.py:473: ValueWarning: A date index has been provided, but it has no associated frequency information and so will be ignored when e.g. forecasting.\n",
      "  self._init_dates(dates, freq)\n",
      "c:\\Users\\surej\\OneDrive\\Desktop\\project\\.vene\\Lib\\site-packages\\statsmodels\\tsa\\base\\tsa_model.py:837: ValueWarning: No supported index is available. Prediction results will be given with an integer index beginning at `start`.\n",
      "  return get_prediction_index(\n",
      "c:\\Users\\surej\\OneDrive\\Desktop\\project\\.vene\\Lib\\site-packages\\statsmodels\\tsa\\base\\tsa_model.py:837: FutureWarning: No supported index is available. In the next version, calling this method in a model without a supported index will result in an exception.\n",
      "  return get_prediction_index(\n",
      "c:\\Users\\surej\\OneDrive\\Desktop\\project\\.vene\\Lib\\site-packages\\statsmodels\\tsa\\base\\tsa_model.py:473: ValueWarning: No frequency information was provided, so inferred frequency W-MON will be used.\n",
      "  self._init_dates(dates, freq)\n",
      "c:\\Users\\surej\\OneDrive\\Desktop\\project\\.vene\\Lib\\site-packages\\statsmodels\\tsa\\base\\tsa_model.py:473: ValueWarning: No frequency information was provided, so inferred frequency W-MON will be used.\n",
      "  self._init_dates(dates, freq)\n",
      "c:\\Users\\surej\\OneDrive\\Desktop\\project\\.vene\\Lib\\site-packages\\statsmodels\\tsa\\base\\tsa_model.py:473: ValueWarning: No frequency information was provided, so inferred frequency W-MON will be used.\n",
      "  self._init_dates(dates, freq)\n"
     ]
    },
    {
     "name": "stdout",
     "output_type": "stream",
     "text": [
      "Generating forecast for pizza_name_id: napolitana_l\n",
      "Generating forecast for pizza_name_id: napolitana_m\n"
     ]
    },
    {
     "name": "stderr",
     "output_type": "stream",
     "text": [
      "c:\\Users\\surej\\OneDrive\\Desktop\\project\\.vene\\Lib\\site-packages\\statsmodels\\tsa\\base\\tsa_model.py:473: ValueWarning: No frequency information was provided, so inferred frequency W-MON will be used.\n",
      "  self._init_dates(dates, freq)\n",
      "c:\\Users\\surej\\OneDrive\\Desktop\\project\\.vene\\Lib\\site-packages\\statsmodels\\tsa\\base\\tsa_model.py:473: ValueWarning: No frequency information was provided, so inferred frequency W-MON will be used.\n",
      "  self._init_dates(dates, freq)\n",
      "c:\\Users\\surej\\OneDrive\\Desktop\\project\\.vene\\Lib\\site-packages\\statsmodels\\tsa\\base\\tsa_model.py:473: ValueWarning: No frequency information was provided, so inferred frequency W-MON will be used.\n",
      "  self._init_dates(dates, freq)\n"
     ]
    },
    {
     "name": "stdout",
     "output_type": "stream",
     "text": [
      "Generating forecast for pizza_name_id: napolitana_s\n"
     ]
    },
    {
     "name": "stderr",
     "output_type": "stream",
     "text": [
      "c:\\Users\\surej\\OneDrive\\Desktop\\project\\.vene\\Lib\\site-packages\\statsmodels\\tsa\\base\\tsa_model.py:473: ValueWarning: No frequency information was provided, so inferred frequency W-MON will be used.\n",
      "  self._init_dates(dates, freq)\n",
      "c:\\Users\\surej\\OneDrive\\Desktop\\project\\.vene\\Lib\\site-packages\\statsmodels\\tsa\\base\\tsa_model.py:473: ValueWarning: No frequency information was provided, so inferred frequency W-MON will be used.\n",
      "  self._init_dates(dates, freq)\n",
      "c:\\Users\\surej\\OneDrive\\Desktop\\project\\.vene\\Lib\\site-packages\\statsmodels\\tsa\\base\\tsa_model.py:473: ValueWarning: No frequency information was provided, so inferred frequency W-MON will be used.\n",
      "  self._init_dates(dates, freq)\n"
     ]
    },
    {
     "name": "stdout",
     "output_type": "stream",
     "text": [
      "Generating forecast for pizza_name_id: pep_msh_pep_l\n"
     ]
    },
    {
     "name": "stderr",
     "output_type": "stream",
     "text": [
      "c:\\Users\\surej\\OneDrive\\Desktop\\project\\.vene\\Lib\\site-packages\\statsmodels\\tsa\\base\\tsa_model.py:473: ValueWarning: No frequency information was provided, so inferred frequency W-MON will be used.\n",
      "  self._init_dates(dates, freq)\n",
      "c:\\Users\\surej\\OneDrive\\Desktop\\project\\.vene\\Lib\\site-packages\\statsmodels\\tsa\\base\\tsa_model.py:473: ValueWarning: No frequency information was provided, so inferred frequency W-MON will be used.\n",
      "  self._init_dates(dates, freq)\n",
      "c:\\Users\\surej\\OneDrive\\Desktop\\project\\.vene\\Lib\\site-packages\\statsmodels\\tsa\\base\\tsa_model.py:473: ValueWarning: No frequency information was provided, so inferred frequency W-MON will be used.\n",
      "  self._init_dates(dates, freq)\n"
     ]
    },
    {
     "name": "stdout",
     "output_type": "stream",
     "text": [
      "Generating forecast for pizza_name_id: pep_msh_pep_m\n"
     ]
    },
    {
     "name": "stderr",
     "output_type": "stream",
     "text": [
      "c:\\Users\\surej\\OneDrive\\Desktop\\project\\.vene\\Lib\\site-packages\\statsmodels\\tsa\\base\\tsa_model.py:473: ValueWarning: No frequency information was provided, so inferred frequency W-MON will be used.\n",
      "  self._init_dates(dates, freq)\n",
      "c:\\Users\\surej\\OneDrive\\Desktop\\project\\.vene\\Lib\\site-packages\\statsmodels\\tsa\\base\\tsa_model.py:473: ValueWarning: No frequency information was provided, so inferred frequency W-MON will be used.\n",
      "  self._init_dates(dates, freq)\n",
      "c:\\Users\\surej\\OneDrive\\Desktop\\project\\.vene\\Lib\\site-packages\\statsmodels\\tsa\\base\\tsa_model.py:473: ValueWarning: No frequency information was provided, so inferred frequency W-MON will be used.\n",
      "  self._init_dates(dates, freq)\n"
     ]
    },
    {
     "name": "stdout",
     "output_type": "stream",
     "text": [
      "Generating forecast for pizza_name_id: pep_msh_pep_s\n"
     ]
    },
    {
     "name": "stderr",
     "output_type": "stream",
     "text": [
      "c:\\Users\\surej\\OneDrive\\Desktop\\project\\.vene\\Lib\\site-packages\\statsmodels\\tsa\\base\\tsa_model.py:473: ValueWarning: No frequency information was provided, so inferred frequency W-MON will be used.\n",
      "  self._init_dates(dates, freq)\n",
      "c:\\Users\\surej\\OneDrive\\Desktop\\project\\.vene\\Lib\\site-packages\\statsmodels\\tsa\\base\\tsa_model.py:473: ValueWarning: No frequency information was provided, so inferred frequency W-MON will be used.\n",
      "  self._init_dates(dates, freq)\n",
      "c:\\Users\\surej\\OneDrive\\Desktop\\project\\.vene\\Lib\\site-packages\\statsmodels\\tsa\\base\\tsa_model.py:473: ValueWarning: No frequency information was provided, so inferred frequency W-MON will be used.\n",
      "  self._init_dates(dates, freq)\n"
     ]
    },
    {
     "name": "stdout",
     "output_type": "stream",
     "text": [
      "Generating forecast for pizza_name_id: pepperoni_l\n"
     ]
    },
    {
     "name": "stderr",
     "output_type": "stream",
     "text": [
      "c:\\Users\\surej\\OneDrive\\Desktop\\project\\.vene\\Lib\\site-packages\\statsmodels\\tsa\\base\\tsa_model.py:473: ValueWarning: No frequency information was provided, so inferred frequency W-MON will be used.\n",
      "  self._init_dates(dates, freq)\n",
      "c:\\Users\\surej\\OneDrive\\Desktop\\project\\.vene\\Lib\\site-packages\\statsmodels\\tsa\\base\\tsa_model.py:473: ValueWarning: No frequency information was provided, so inferred frequency W-MON will be used.\n",
      "  self._init_dates(dates, freq)\n",
      "c:\\Users\\surej\\OneDrive\\Desktop\\project\\.vene\\Lib\\site-packages\\statsmodels\\tsa\\base\\tsa_model.py:473: ValueWarning: No frequency information was provided, so inferred frequency W-MON will be used.\n",
      "  self._init_dates(dates, freq)\n"
     ]
    },
    {
     "name": "stdout",
     "output_type": "stream",
     "text": [
      "Generating forecast for pizza_name_id: pepperoni_m\n"
     ]
    },
    {
     "name": "stderr",
     "output_type": "stream",
     "text": [
      "c:\\Users\\surej\\OneDrive\\Desktop\\project\\.vene\\Lib\\site-packages\\statsmodels\\tsa\\base\\tsa_model.py:473: ValueWarning: No frequency information was provided, so inferred frequency W-MON will be used.\n",
      "  self._init_dates(dates, freq)\n",
      "c:\\Users\\surej\\OneDrive\\Desktop\\project\\.vene\\Lib\\site-packages\\statsmodels\\tsa\\base\\tsa_model.py:473: ValueWarning: No frequency information was provided, so inferred frequency W-MON will be used.\n",
      "  self._init_dates(dates, freq)\n",
      "c:\\Users\\surej\\OneDrive\\Desktop\\project\\.vene\\Lib\\site-packages\\statsmodels\\tsa\\base\\tsa_model.py:473: ValueWarning: No frequency information was provided, so inferred frequency W-MON will be used.\n",
      "  self._init_dates(dates, freq)\n"
     ]
    },
    {
     "name": "stdout",
     "output_type": "stream",
     "text": [
      "Generating forecast for pizza_name_id: pepperoni_s\n"
     ]
    },
    {
     "name": "stderr",
     "output_type": "stream",
     "text": [
      "c:\\Users\\surej\\OneDrive\\Desktop\\project\\.vene\\Lib\\site-packages\\statsmodels\\tsa\\base\\tsa_model.py:473: ValueWarning: No frequency information was provided, so inferred frequency W-MON will be used.\n",
      "  self._init_dates(dates, freq)\n",
      "c:\\Users\\surej\\OneDrive\\Desktop\\project\\.vene\\Lib\\site-packages\\statsmodels\\tsa\\base\\tsa_model.py:473: ValueWarning: No frequency information was provided, so inferred frequency W-MON will be used.\n",
      "  self._init_dates(dates, freq)\n",
      "c:\\Users\\surej\\OneDrive\\Desktop\\project\\.vene\\Lib\\site-packages\\statsmodels\\tsa\\base\\tsa_model.py:473: ValueWarning: No frequency information was provided, so inferred frequency W-MON will be used.\n",
      "  self._init_dates(dates, freq)\n"
     ]
    },
    {
     "name": "stdout",
     "output_type": "stream",
     "text": [
      "Generating forecast for pizza_name_id: peppr_salami_l\n"
     ]
    },
    {
     "name": "stderr",
     "output_type": "stream",
     "text": [
      "c:\\Users\\surej\\OneDrive\\Desktop\\project\\.vene\\Lib\\site-packages\\statsmodels\\tsa\\base\\tsa_model.py:473: ValueWarning: No frequency information was provided, so inferred frequency W-MON will be used.\n",
      "  self._init_dates(dates, freq)\n",
      "c:\\Users\\surej\\OneDrive\\Desktop\\project\\.vene\\Lib\\site-packages\\statsmodels\\tsa\\base\\tsa_model.py:473: ValueWarning: No frequency information was provided, so inferred frequency W-MON will be used.\n",
      "  self._init_dates(dates, freq)\n",
      "c:\\Users\\surej\\OneDrive\\Desktop\\project\\.vene\\Lib\\site-packages\\statsmodels\\tsa\\base\\tsa_model.py:473: ValueWarning: No frequency information was provided, so inferred frequency W-MON will be used.\n",
      "  self._init_dates(dates, freq)\n"
     ]
    },
    {
     "name": "stdout",
     "output_type": "stream",
     "text": [
      "Generating forecast for pizza_name_id: peppr_salami_m\n"
     ]
    },
    {
     "name": "stderr",
     "output_type": "stream",
     "text": [
      "c:\\Users\\surej\\OneDrive\\Desktop\\project\\.vene\\Lib\\site-packages\\statsmodels\\tsa\\base\\tsa_model.py:473: ValueWarning: No frequency information was provided, so inferred frequency W-MON will be used.\n",
      "  self._init_dates(dates, freq)\n",
      "c:\\Users\\surej\\OneDrive\\Desktop\\project\\.vene\\Lib\\site-packages\\statsmodels\\tsa\\base\\tsa_model.py:473: ValueWarning: No frequency information was provided, so inferred frequency W-MON will be used.\n",
      "  self._init_dates(dates, freq)\n",
      "c:\\Users\\surej\\OneDrive\\Desktop\\project\\.vene\\Lib\\site-packages\\statsmodels\\tsa\\base\\tsa_model.py:473: ValueWarning: No frequency information was provided, so inferred frequency W-MON will be used.\n",
      "  self._init_dates(dates, freq)\n"
     ]
    },
    {
     "name": "stdout",
     "output_type": "stream",
     "text": [
      "Generating forecast for pizza_name_id: peppr_salami_s\n"
     ]
    },
    {
     "name": "stderr",
     "output_type": "stream",
     "text": [
      "c:\\Users\\surej\\OneDrive\\Desktop\\project\\.vene\\Lib\\site-packages\\statsmodels\\tsa\\base\\tsa_model.py:473: ValueWarning: No frequency information was provided, so inferred frequency W-MON will be used.\n",
      "  self._init_dates(dates, freq)\n",
      "c:\\Users\\surej\\OneDrive\\Desktop\\project\\.vene\\Lib\\site-packages\\statsmodels\\tsa\\base\\tsa_model.py:473: ValueWarning: No frequency information was provided, so inferred frequency W-MON will be used.\n",
      "  self._init_dates(dates, freq)\n",
      "c:\\Users\\surej\\OneDrive\\Desktop\\project\\.vene\\Lib\\site-packages\\statsmodels\\tsa\\base\\tsa_model.py:473: ValueWarning: No frequency information was provided, so inferred frequency W-MON will be used.\n",
      "  self._init_dates(dates, freq)\n"
     ]
    },
    {
     "name": "stdout",
     "output_type": "stream",
     "text": [
      "Generating forecast for pizza_name_id: prsc_argla_l\n"
     ]
    },
    {
     "name": "stderr",
     "output_type": "stream",
     "text": [
      "c:\\Users\\surej\\OneDrive\\Desktop\\project\\.vene\\Lib\\site-packages\\statsmodels\\tsa\\base\\tsa_model.py:473: ValueWarning: No frequency information was provided, so inferred frequency W-MON will be used.\n",
      "  self._init_dates(dates, freq)\n",
      "c:\\Users\\surej\\OneDrive\\Desktop\\project\\.vene\\Lib\\site-packages\\statsmodels\\tsa\\base\\tsa_model.py:473: ValueWarning: No frequency information was provided, so inferred frequency W-MON will be used.\n",
      "  self._init_dates(dates, freq)\n",
      "c:\\Users\\surej\\OneDrive\\Desktop\\project\\.vene\\Lib\\site-packages\\statsmodels\\tsa\\base\\tsa_model.py:473: ValueWarning: No frequency information was provided, so inferred frequency W-MON will be used.\n",
      "  self._init_dates(dates, freq)\n"
     ]
    },
    {
     "name": "stdout",
     "output_type": "stream",
     "text": [
      "Generating forecast for pizza_name_id: prsc_argla_m\n"
     ]
    },
    {
     "name": "stderr",
     "output_type": "stream",
     "text": [
      "c:\\Users\\surej\\OneDrive\\Desktop\\project\\.vene\\Lib\\site-packages\\statsmodels\\tsa\\base\\tsa_model.py:473: ValueWarning: No frequency information was provided, so inferred frequency W-MON will be used.\n",
      "  self._init_dates(dates, freq)\n",
      "c:\\Users\\surej\\OneDrive\\Desktop\\project\\.vene\\Lib\\site-packages\\statsmodels\\tsa\\base\\tsa_model.py:473: ValueWarning: No frequency information was provided, so inferred frequency W-MON will be used.\n",
      "  self._init_dates(dates, freq)\n",
      "c:\\Users\\surej\\OneDrive\\Desktop\\project\\.vene\\Lib\\site-packages\\statsmodels\\tsa\\base\\tsa_model.py:473: ValueWarning: No frequency information was provided, so inferred frequency W-MON will be used.\n",
      "  self._init_dates(dates, freq)\n"
     ]
    },
    {
     "name": "stdout",
     "output_type": "stream",
     "text": [
      "Generating forecast for pizza_name_id: prsc_argla_s\n"
     ]
    },
    {
     "name": "stderr",
     "output_type": "stream",
     "text": [
      "c:\\Users\\surej\\OneDrive\\Desktop\\project\\.vene\\Lib\\site-packages\\statsmodels\\tsa\\base\\tsa_model.py:473: ValueWarning: No frequency information was provided, so inferred frequency W-MON will be used.\n",
      "  self._init_dates(dates, freq)\n",
      "c:\\Users\\surej\\OneDrive\\Desktop\\project\\.vene\\Lib\\site-packages\\statsmodels\\tsa\\base\\tsa_model.py:473: ValueWarning: No frequency information was provided, so inferred frequency W-MON will be used.\n",
      "  self._init_dates(dates, freq)\n",
      "c:\\Users\\surej\\OneDrive\\Desktop\\project\\.vene\\Lib\\site-packages\\statsmodels\\tsa\\base\\tsa_model.py:473: ValueWarning: No frequency information was provided, so inferred frequency W-MON will be used.\n",
      "  self._init_dates(dates, freq)\n"
     ]
    },
    {
     "name": "stdout",
     "output_type": "stream",
     "text": [
      "Generating forecast for pizza_name_id: sicilian_l\n"
     ]
    },
    {
     "name": "stderr",
     "output_type": "stream",
     "text": [
      "c:\\Users\\surej\\OneDrive\\Desktop\\project\\.vene\\Lib\\site-packages\\statsmodels\\tsa\\base\\tsa_model.py:473: ValueWarning: No frequency information was provided, so inferred frequency W-MON will be used.\n",
      "  self._init_dates(dates, freq)\n",
      "c:\\Users\\surej\\OneDrive\\Desktop\\project\\.vene\\Lib\\site-packages\\statsmodels\\tsa\\base\\tsa_model.py:473: ValueWarning: No frequency information was provided, so inferred frequency W-MON will be used.\n",
      "  self._init_dates(dates, freq)\n",
      "c:\\Users\\surej\\OneDrive\\Desktop\\project\\.vene\\Lib\\site-packages\\statsmodels\\tsa\\base\\tsa_model.py:473: ValueWarning: No frequency information was provided, so inferred frequency W-MON will be used.\n",
      "  self._init_dates(dates, freq)\n"
     ]
    },
    {
     "name": "stdout",
     "output_type": "stream",
     "text": [
      "Generating forecast for pizza_name_id: sicilian_m\n"
     ]
    },
    {
     "name": "stderr",
     "output_type": "stream",
     "text": [
      "c:\\Users\\surej\\OneDrive\\Desktop\\project\\.vene\\Lib\\site-packages\\statsmodels\\tsa\\base\\tsa_model.py:473: ValueWarning: No frequency information was provided, so inferred frequency W-MON will be used.\n",
      "  self._init_dates(dates, freq)\n",
      "c:\\Users\\surej\\OneDrive\\Desktop\\project\\.vene\\Lib\\site-packages\\statsmodels\\tsa\\base\\tsa_model.py:473: ValueWarning: No frequency information was provided, so inferred frequency W-MON will be used.\n",
      "  self._init_dates(dates, freq)\n",
      "c:\\Users\\surej\\OneDrive\\Desktop\\project\\.vene\\Lib\\site-packages\\statsmodels\\tsa\\base\\tsa_model.py:473: ValueWarning: No frequency information was provided, so inferred frequency W-MON will be used.\n",
      "  self._init_dates(dates, freq)\n"
     ]
    },
    {
     "name": "stdout",
     "output_type": "stream",
     "text": [
      "Generating forecast for pizza_name_id: sicilian_s\n"
     ]
    },
    {
     "name": "stderr",
     "output_type": "stream",
     "text": [
      "c:\\Users\\surej\\OneDrive\\Desktop\\project\\.vene\\Lib\\site-packages\\statsmodels\\tsa\\base\\tsa_model.py:473: ValueWarning: No frequency information was provided, so inferred frequency W-MON will be used.\n",
      "  self._init_dates(dates, freq)\n",
      "c:\\Users\\surej\\OneDrive\\Desktop\\project\\.vene\\Lib\\site-packages\\statsmodels\\tsa\\base\\tsa_model.py:473: ValueWarning: No frequency information was provided, so inferred frequency W-MON will be used.\n",
      "  self._init_dates(dates, freq)\n",
      "c:\\Users\\surej\\OneDrive\\Desktop\\project\\.vene\\Lib\\site-packages\\statsmodels\\tsa\\base\\tsa_model.py:473: ValueWarning: No frequency information was provided, so inferred frequency W-MON will be used.\n",
      "  self._init_dates(dates, freq)\n"
     ]
    },
    {
     "name": "stdout",
     "output_type": "stream",
     "text": [
      "Generating forecast for pizza_name_id: soppressata_l\n"
     ]
    },
    {
     "name": "stderr",
     "output_type": "stream",
     "text": [
      "c:\\Users\\surej\\OneDrive\\Desktop\\project\\.vene\\Lib\\site-packages\\statsmodels\\tsa\\base\\tsa_model.py:473: ValueWarning: No frequency information was provided, so inferred frequency W-MON will be used.\n",
      "  self._init_dates(dates, freq)\n",
      "c:\\Users\\surej\\OneDrive\\Desktop\\project\\.vene\\Lib\\site-packages\\statsmodels\\tsa\\base\\tsa_model.py:473: ValueWarning: No frequency information was provided, so inferred frequency W-MON will be used.\n",
      "  self._init_dates(dates, freq)\n",
      "c:\\Users\\surej\\OneDrive\\Desktop\\project\\.vene\\Lib\\site-packages\\statsmodels\\tsa\\base\\tsa_model.py:473: ValueWarning: No frequency information was provided, so inferred frequency W-MON will be used.\n",
      "  self._init_dates(dates, freq)\n"
     ]
    },
    {
     "name": "stdout",
     "output_type": "stream",
     "text": [
      "Generating forecast for pizza_name_id: soppressata_m\n"
     ]
    },
    {
     "name": "stderr",
     "output_type": "stream",
     "text": [
      "c:\\Users\\surej\\OneDrive\\Desktop\\project\\.vene\\Lib\\site-packages\\statsmodels\\tsa\\base\\tsa_model.py:473: ValueWarning: No frequency information was provided, so inferred frequency W-MON will be used.\n",
      "  self._init_dates(dates, freq)\n",
      "c:\\Users\\surej\\OneDrive\\Desktop\\project\\.vene\\Lib\\site-packages\\statsmodels\\tsa\\base\\tsa_model.py:473: ValueWarning: No frequency information was provided, so inferred frequency W-MON will be used.\n",
      "  self._init_dates(dates, freq)\n",
      "c:\\Users\\surej\\OneDrive\\Desktop\\project\\.vene\\Lib\\site-packages\\statsmodels\\tsa\\base\\tsa_model.py:473: ValueWarning: No frequency information was provided, so inferred frequency W-MON will be used.\n",
      "  self._init_dates(dates, freq)\n"
     ]
    },
    {
     "name": "stdout",
     "output_type": "stream",
     "text": [
      "Generating forecast for pizza_name_id: soppressata_s\n"
     ]
    },
    {
     "name": "stderr",
     "output_type": "stream",
     "text": [
      "c:\\Users\\surej\\OneDrive\\Desktop\\project\\.vene\\Lib\\site-packages\\statsmodels\\tsa\\base\\tsa_model.py:473: ValueWarning: No frequency information was provided, so inferred frequency W-MON will be used.\n",
      "  self._init_dates(dates, freq)\n",
      "c:\\Users\\surej\\OneDrive\\Desktop\\project\\.vene\\Lib\\site-packages\\statsmodels\\tsa\\base\\tsa_model.py:473: ValueWarning: No frequency information was provided, so inferred frequency W-MON will be used.\n",
      "  self._init_dates(dates, freq)\n",
      "c:\\Users\\surej\\OneDrive\\Desktop\\project\\.vene\\Lib\\site-packages\\statsmodels\\tsa\\base\\tsa_model.py:473: ValueWarning: No frequency information was provided, so inferred frequency W-MON will be used.\n",
      "  self._init_dates(dates, freq)\n"
     ]
    },
    {
     "name": "stdout",
     "output_type": "stream",
     "text": [
      "Generating forecast for pizza_name_id: southw_ckn_l\n"
     ]
    },
    {
     "name": "stderr",
     "output_type": "stream",
     "text": [
      "c:\\Users\\surej\\OneDrive\\Desktop\\project\\.vene\\Lib\\site-packages\\statsmodels\\tsa\\base\\tsa_model.py:473: ValueWarning: No frequency information was provided, so inferred frequency W-MON will be used.\n",
      "  self._init_dates(dates, freq)\n",
      "c:\\Users\\surej\\OneDrive\\Desktop\\project\\.vene\\Lib\\site-packages\\statsmodels\\tsa\\base\\tsa_model.py:473: ValueWarning: No frequency information was provided, so inferred frequency W-MON will be used.\n",
      "  self._init_dates(dates, freq)\n",
      "c:\\Users\\surej\\OneDrive\\Desktop\\project\\.vene\\Lib\\site-packages\\statsmodels\\tsa\\base\\tsa_model.py:473: ValueWarning: No frequency information was provided, so inferred frequency W-MON will be used.\n",
      "  self._init_dates(dates, freq)\n"
     ]
    },
    {
     "name": "stdout",
     "output_type": "stream",
     "text": [
      "Generating forecast for pizza_name_id: southw_ckn_m\n"
     ]
    },
    {
     "name": "stderr",
     "output_type": "stream",
     "text": [
      "c:\\Users\\surej\\OneDrive\\Desktop\\project\\.vene\\Lib\\site-packages\\statsmodels\\tsa\\base\\tsa_model.py:473: ValueWarning: No frequency information was provided, so inferred frequency W-MON will be used.\n",
      "  self._init_dates(dates, freq)\n",
      "c:\\Users\\surej\\OneDrive\\Desktop\\project\\.vene\\Lib\\site-packages\\statsmodels\\tsa\\base\\tsa_model.py:473: ValueWarning: No frequency information was provided, so inferred frequency W-MON will be used.\n",
      "  self._init_dates(dates, freq)\n",
      "c:\\Users\\surej\\OneDrive\\Desktop\\project\\.vene\\Lib\\site-packages\\statsmodels\\tsa\\base\\tsa_model.py:473: ValueWarning: No frequency information was provided, so inferred frequency W-MON will be used.\n",
      "  self._init_dates(dates, freq)\n"
     ]
    },
    {
     "name": "stdout",
     "output_type": "stream",
     "text": [
      "Generating forecast for pizza_name_id: southw_ckn_s\n"
     ]
    },
    {
     "name": "stderr",
     "output_type": "stream",
     "text": [
      "c:\\Users\\surej\\OneDrive\\Desktop\\project\\.vene\\Lib\\site-packages\\statsmodels\\tsa\\base\\tsa_model.py:473: ValueWarning: No frequency information was provided, so inferred frequency W-MON will be used.\n",
      "  self._init_dates(dates, freq)\n",
      "c:\\Users\\surej\\OneDrive\\Desktop\\project\\.vene\\Lib\\site-packages\\statsmodels\\tsa\\base\\tsa_model.py:473: ValueWarning: No frequency information was provided, so inferred frequency W-MON will be used.\n",
      "  self._init_dates(dates, freq)\n",
      "c:\\Users\\surej\\OneDrive\\Desktop\\project\\.vene\\Lib\\site-packages\\statsmodels\\tsa\\base\\tsa_model.py:473: ValueWarning: No frequency information was provided, so inferred frequency W-MON will be used.\n",
      "  self._init_dates(dates, freq)\n"
     ]
    },
    {
     "name": "stdout",
     "output_type": "stream",
     "text": [
      "Generating forecast for pizza_name_id: spicy_ital_l\n"
     ]
    },
    {
     "name": "stderr",
     "output_type": "stream",
     "text": [
      "c:\\Users\\surej\\OneDrive\\Desktop\\project\\.vene\\Lib\\site-packages\\statsmodels\\tsa\\base\\tsa_model.py:473: ValueWarning: No frequency information was provided, so inferred frequency W-MON will be used.\n",
      "  self._init_dates(dates, freq)\n",
      "c:\\Users\\surej\\OneDrive\\Desktop\\project\\.vene\\Lib\\site-packages\\statsmodels\\tsa\\base\\tsa_model.py:473: ValueWarning: No frequency information was provided, so inferred frequency W-MON will be used.\n",
      "  self._init_dates(dates, freq)\n",
      "c:\\Users\\surej\\OneDrive\\Desktop\\project\\.vene\\Lib\\site-packages\\statsmodels\\tsa\\base\\tsa_model.py:473: ValueWarning: No frequency information was provided, so inferred frequency W-MON will be used.\n",
      "  self._init_dates(dates, freq)\n"
     ]
    },
    {
     "name": "stdout",
     "output_type": "stream",
     "text": [
      "Generating forecast for pizza_name_id: spicy_ital_m\n"
     ]
    },
    {
     "name": "stderr",
     "output_type": "stream",
     "text": [
      "c:\\Users\\surej\\OneDrive\\Desktop\\project\\.vene\\Lib\\site-packages\\statsmodels\\tsa\\base\\tsa_model.py:473: ValueWarning: No frequency information was provided, so inferred frequency W-MON will be used.\n",
      "  self._init_dates(dates, freq)\n",
      "c:\\Users\\surej\\OneDrive\\Desktop\\project\\.vene\\Lib\\site-packages\\statsmodels\\tsa\\base\\tsa_model.py:473: ValueWarning: No frequency information was provided, so inferred frequency W-MON will be used.\n",
      "  self._init_dates(dates, freq)\n",
      "c:\\Users\\surej\\OneDrive\\Desktop\\project\\.vene\\Lib\\site-packages\\statsmodels\\tsa\\base\\tsa_model.py:473: ValueWarning: No frequency information was provided, so inferred frequency W-MON will be used.\n",
      "  self._init_dates(dates, freq)\n"
     ]
    },
    {
     "name": "stdout",
     "output_type": "stream",
     "text": [
      "Generating forecast for pizza_name_id: spicy_ital_s\n"
     ]
    },
    {
     "name": "stderr",
     "output_type": "stream",
     "text": [
      "c:\\Users\\surej\\OneDrive\\Desktop\\project\\.vene\\Lib\\site-packages\\statsmodels\\tsa\\base\\tsa_model.py:473: ValueWarning: No frequency information was provided, so inferred frequency W-MON will be used.\n",
      "  self._init_dates(dates, freq)\n",
      "c:\\Users\\surej\\OneDrive\\Desktop\\project\\.vene\\Lib\\site-packages\\statsmodels\\tsa\\base\\tsa_model.py:473: ValueWarning: No frequency information was provided, so inferred frequency W-MON will be used.\n",
      "  self._init_dates(dates, freq)\n",
      "c:\\Users\\surej\\OneDrive\\Desktop\\project\\.vene\\Lib\\site-packages\\statsmodels\\tsa\\base\\tsa_model.py:473: ValueWarning: No frequency information was provided, so inferred frequency W-MON will be used.\n",
      "  self._init_dates(dates, freq)\n"
     ]
    },
    {
     "name": "stdout",
     "output_type": "stream",
     "text": [
      "Generating forecast for pizza_name_id: spin_pesto_l\n"
     ]
    },
    {
     "name": "stderr",
     "output_type": "stream",
     "text": [
      "c:\\Users\\surej\\OneDrive\\Desktop\\project\\.vene\\Lib\\site-packages\\statsmodels\\tsa\\base\\tsa_model.py:473: ValueWarning: A date index has been provided, but it has no associated frequency information and so will be ignored when e.g. forecasting.\n",
      "  self._init_dates(dates, freq)\n",
      "c:\\Users\\surej\\OneDrive\\Desktop\\project\\.vene\\Lib\\site-packages\\statsmodels\\tsa\\base\\tsa_model.py:473: ValueWarning: A date index has been provided, but it has no associated frequency information and so will be ignored when e.g. forecasting.\n",
      "  self._init_dates(dates, freq)\n",
      "c:\\Users\\surej\\OneDrive\\Desktop\\project\\.vene\\Lib\\site-packages\\statsmodels\\tsa\\base\\tsa_model.py:473: ValueWarning: A date index has been provided, but it has no associated frequency information and so will be ignored when e.g. forecasting.\n",
      "  self._init_dates(dates, freq)\n",
      "c:\\Users\\surej\\OneDrive\\Desktop\\project\\.vene\\Lib\\site-packages\\statsmodels\\tsa\\base\\tsa_model.py:837: ValueWarning: No supported index is available. Prediction results will be given with an integer index beginning at `start`.\n",
      "  return get_prediction_index(\n",
      "c:\\Users\\surej\\OneDrive\\Desktop\\project\\.vene\\Lib\\site-packages\\statsmodels\\tsa\\base\\tsa_model.py:837: FutureWarning: No supported index is available. In the next version, calling this method in a model without a supported index will result in an exception.\n",
      "  return get_prediction_index(\n",
      "c:\\Users\\surej\\OneDrive\\Desktop\\project\\.vene\\Lib\\site-packages\\statsmodels\\tsa\\base\\tsa_model.py:473: ValueWarning: No frequency information was provided, so inferred frequency W-MON will be used.\n",
      "  self._init_dates(dates, freq)\n",
      "c:\\Users\\surej\\OneDrive\\Desktop\\project\\.vene\\Lib\\site-packages\\statsmodels\\tsa\\base\\tsa_model.py:473: ValueWarning: No frequency information was provided, so inferred frequency W-MON will be used.\n",
      "  self._init_dates(dates, freq)\n",
      "c:\\Users\\surej\\OneDrive\\Desktop\\project\\.vene\\Lib\\site-packages\\statsmodels\\tsa\\base\\tsa_model.py:473: ValueWarning: No frequency information was provided, so inferred frequency W-MON will be used.\n",
      "  self._init_dates(dates, freq)\n"
     ]
    },
    {
     "name": "stdout",
     "output_type": "stream",
     "text": [
      "Generating forecast for pizza_name_id: spin_pesto_m\n",
      "Generating forecast for pizza_name_id: spin_pesto_s\n"
     ]
    },
    {
     "name": "stderr",
     "output_type": "stream",
     "text": [
      "c:\\Users\\surej\\OneDrive\\Desktop\\project\\.vene\\Lib\\site-packages\\statsmodels\\tsa\\base\\tsa_model.py:473: ValueWarning: No frequency information was provided, so inferred frequency W-MON will be used.\n",
      "  self._init_dates(dates, freq)\n",
      "c:\\Users\\surej\\OneDrive\\Desktop\\project\\.vene\\Lib\\site-packages\\statsmodels\\tsa\\base\\tsa_model.py:473: ValueWarning: No frequency information was provided, so inferred frequency W-MON will be used.\n",
      "  self._init_dates(dates, freq)\n",
      "c:\\Users\\surej\\OneDrive\\Desktop\\project\\.vene\\Lib\\site-packages\\statsmodels\\tsa\\base\\tsa_model.py:473: ValueWarning: No frequency information was provided, so inferred frequency W-MON will be used.\n",
      "  self._init_dates(dates, freq)\n"
     ]
    },
    {
     "name": "stdout",
     "output_type": "stream",
     "text": [
      "Generating forecast for pizza_name_id: spinach_fet_l\n"
     ]
    },
    {
     "name": "stderr",
     "output_type": "stream",
     "text": [
      "c:\\Users\\surej\\OneDrive\\Desktop\\project\\.vene\\Lib\\site-packages\\statsmodels\\tsa\\base\\tsa_model.py:473: ValueWarning: No frequency information was provided, so inferred frequency W-MON will be used.\n",
      "  self._init_dates(dates, freq)\n",
      "c:\\Users\\surej\\OneDrive\\Desktop\\project\\.vene\\Lib\\site-packages\\statsmodels\\tsa\\base\\tsa_model.py:473: ValueWarning: No frequency information was provided, so inferred frequency W-MON will be used.\n",
      "  self._init_dates(dates, freq)\n",
      "c:\\Users\\surej\\OneDrive\\Desktop\\project\\.vene\\Lib\\site-packages\\statsmodels\\tsa\\base\\tsa_model.py:473: ValueWarning: No frequency information was provided, so inferred frequency W-MON will be used.\n",
      "  self._init_dates(dates, freq)\n"
     ]
    },
    {
     "name": "stdout",
     "output_type": "stream",
     "text": [
      "Generating forecast for pizza_name_id: spinach_fet_m\n"
     ]
    },
    {
     "name": "stderr",
     "output_type": "stream",
     "text": [
      "c:\\Users\\surej\\OneDrive\\Desktop\\project\\.vene\\Lib\\site-packages\\statsmodels\\tsa\\base\\tsa_model.py:473: ValueWarning: No frequency information was provided, so inferred frequency W-MON will be used.\n",
      "  self._init_dates(dates, freq)\n",
      "c:\\Users\\surej\\OneDrive\\Desktop\\project\\.vene\\Lib\\site-packages\\statsmodels\\tsa\\base\\tsa_model.py:473: ValueWarning: No frequency information was provided, so inferred frequency W-MON will be used.\n",
      "  self._init_dates(dates, freq)\n",
      "c:\\Users\\surej\\OneDrive\\Desktop\\project\\.vene\\Lib\\site-packages\\statsmodels\\tsa\\base\\tsa_model.py:473: ValueWarning: No frequency information was provided, so inferred frequency W-MON will be used.\n",
      "  self._init_dates(dates, freq)\n"
     ]
    },
    {
     "name": "stdout",
     "output_type": "stream",
     "text": [
      "Generating forecast for pizza_name_id: spinach_fet_s\n"
     ]
    },
    {
     "name": "stderr",
     "output_type": "stream",
     "text": [
      "c:\\Users\\surej\\OneDrive\\Desktop\\project\\.vene\\Lib\\site-packages\\statsmodels\\tsa\\base\\tsa_model.py:473: ValueWarning: No frequency information was provided, so inferred frequency W-MON will be used.\n",
      "  self._init_dates(dates, freq)\n",
      "c:\\Users\\surej\\OneDrive\\Desktop\\project\\.vene\\Lib\\site-packages\\statsmodels\\tsa\\base\\tsa_model.py:473: ValueWarning: No frequency information was provided, so inferred frequency W-MON will be used.\n",
      "  self._init_dates(dates, freq)\n",
      "c:\\Users\\surej\\OneDrive\\Desktop\\project\\.vene\\Lib\\site-packages\\statsmodels\\tsa\\base\\tsa_model.py:473: ValueWarning: No frequency information was provided, so inferred frequency W-MON will be used.\n",
      "  self._init_dates(dates, freq)\n"
     ]
    },
    {
     "name": "stdout",
     "output_type": "stream",
     "text": [
      "Generating forecast for pizza_name_id: spinach_supr_l\n"
     ]
    },
    {
     "name": "stderr",
     "output_type": "stream",
     "text": [
      "c:\\Users\\surej\\OneDrive\\Desktop\\project\\.vene\\Lib\\site-packages\\statsmodels\\tsa\\base\\tsa_model.py:473: ValueWarning: No frequency information was provided, so inferred frequency W-MON will be used.\n",
      "  self._init_dates(dates, freq)\n",
      "c:\\Users\\surej\\OneDrive\\Desktop\\project\\.vene\\Lib\\site-packages\\statsmodels\\tsa\\base\\tsa_model.py:473: ValueWarning: No frequency information was provided, so inferred frequency W-MON will be used.\n",
      "  self._init_dates(dates, freq)\n",
      "c:\\Users\\surej\\OneDrive\\Desktop\\project\\.vene\\Lib\\site-packages\\statsmodels\\tsa\\base\\tsa_model.py:473: ValueWarning: No frequency information was provided, so inferred frequency W-MON will be used.\n",
      "  self._init_dates(dates, freq)\n"
     ]
    },
    {
     "name": "stdout",
     "output_type": "stream",
     "text": [
      "Generating forecast for pizza_name_id: spinach_supr_m\n"
     ]
    },
    {
     "name": "stderr",
     "output_type": "stream",
     "text": [
      "c:\\Users\\surej\\OneDrive\\Desktop\\project\\.vene\\Lib\\site-packages\\statsmodels\\tsa\\base\\tsa_model.py:473: ValueWarning: A date index has been provided, but it has no associated frequency information and so will be ignored when e.g. forecasting.\n",
      "  self._init_dates(dates, freq)\n",
      "c:\\Users\\surej\\OneDrive\\Desktop\\project\\.vene\\Lib\\site-packages\\statsmodels\\tsa\\base\\tsa_model.py:473: ValueWarning: A date index has been provided, but it has no associated frequency information and so will be ignored when e.g. forecasting.\n",
      "  self._init_dates(dates, freq)\n",
      "c:\\Users\\surej\\OneDrive\\Desktop\\project\\.vene\\Lib\\site-packages\\statsmodels\\tsa\\base\\tsa_model.py:473: ValueWarning: A date index has been provided, but it has no associated frequency information and so will be ignored when e.g. forecasting.\n",
      "  self._init_dates(dates, freq)\n",
      "c:\\Users\\surej\\OneDrive\\Desktop\\project\\.vene\\Lib\\site-packages\\statsmodels\\tsa\\base\\tsa_model.py:837: ValueWarning: No supported index is available. Prediction results will be given with an integer index beginning at `start`.\n",
      "  return get_prediction_index(\n",
      "c:\\Users\\surej\\OneDrive\\Desktop\\project\\.vene\\Lib\\site-packages\\statsmodels\\tsa\\base\\tsa_model.py:837: FutureWarning: No supported index is available. In the next version, calling this method in a model without a supported index will result in an exception.\n",
      "  return get_prediction_index(\n",
      "c:\\Users\\surej\\OneDrive\\Desktop\\project\\.vene\\Lib\\site-packages\\statsmodels\\tsa\\base\\tsa_model.py:473: ValueWarning: No frequency information was provided, so inferred frequency W-MON will be used.\n",
      "  self._init_dates(dates, freq)\n",
      "c:\\Users\\surej\\OneDrive\\Desktop\\project\\.vene\\Lib\\site-packages\\statsmodels\\tsa\\base\\tsa_model.py:473: ValueWarning: No frequency information was provided, so inferred frequency W-MON will be used.\n",
      "  self._init_dates(dates, freq)\n",
      "c:\\Users\\surej\\OneDrive\\Desktop\\project\\.vene\\Lib\\site-packages\\statsmodels\\tsa\\base\\tsa_model.py:473: ValueWarning: No frequency information was provided, so inferred frequency W-MON will be used.\n",
      "  self._init_dates(dates, freq)\n"
     ]
    },
    {
     "name": "stdout",
     "output_type": "stream",
     "text": [
      "Generating forecast for pizza_name_id: spinach_supr_s\n",
      "Generating forecast for pizza_name_id: thai_ckn_l\n"
     ]
    },
    {
     "name": "stderr",
     "output_type": "stream",
     "text": [
      "c:\\Users\\surej\\OneDrive\\Desktop\\project\\.vene\\Lib\\site-packages\\statsmodels\\tsa\\base\\tsa_model.py:473: ValueWarning: No frequency information was provided, so inferred frequency W-MON will be used.\n",
      "  self._init_dates(dates, freq)\n",
      "c:\\Users\\surej\\OneDrive\\Desktop\\project\\.vene\\Lib\\site-packages\\statsmodels\\tsa\\base\\tsa_model.py:473: ValueWarning: No frequency information was provided, so inferred frequency W-MON will be used.\n",
      "  self._init_dates(dates, freq)\n",
      "c:\\Users\\surej\\OneDrive\\Desktop\\project\\.vene\\Lib\\site-packages\\statsmodels\\tsa\\base\\tsa_model.py:473: ValueWarning: No frequency information was provided, so inferred frequency W-MON will be used.\n",
      "  self._init_dates(dates, freq)\n"
     ]
    },
    {
     "name": "stdout",
     "output_type": "stream",
     "text": [
      "Generating forecast for pizza_name_id: thai_ckn_m\n"
     ]
    },
    {
     "name": "stderr",
     "output_type": "stream",
     "text": [
      "c:\\Users\\surej\\OneDrive\\Desktop\\project\\.vene\\Lib\\site-packages\\statsmodels\\tsa\\base\\tsa_model.py:473: ValueWarning: No frequency information was provided, so inferred frequency W-MON will be used.\n",
      "  self._init_dates(dates, freq)\n",
      "c:\\Users\\surej\\OneDrive\\Desktop\\project\\.vene\\Lib\\site-packages\\statsmodels\\tsa\\base\\tsa_model.py:473: ValueWarning: No frequency information was provided, so inferred frequency W-MON will be used.\n",
      "  self._init_dates(dates, freq)\n",
      "c:\\Users\\surej\\OneDrive\\Desktop\\project\\.vene\\Lib\\site-packages\\statsmodels\\tsa\\base\\tsa_model.py:473: ValueWarning: No frequency information was provided, so inferred frequency W-MON will be used.\n",
      "  self._init_dates(dates, freq)\n"
     ]
    },
    {
     "name": "stdout",
     "output_type": "stream",
     "text": [
      "Generating forecast for pizza_name_id: thai_ckn_s\n"
     ]
    },
    {
     "name": "stderr",
     "output_type": "stream",
     "text": [
      "c:\\Users\\surej\\OneDrive\\Desktop\\project\\.vene\\Lib\\site-packages\\statsmodels\\tsa\\base\\tsa_model.py:473: ValueWarning: No frequency information was provided, so inferred frequency W-MON will be used.\n",
      "  self._init_dates(dates, freq)\n",
      "c:\\Users\\surej\\OneDrive\\Desktop\\project\\.vene\\Lib\\site-packages\\statsmodels\\tsa\\base\\tsa_model.py:473: ValueWarning: No frequency information was provided, so inferred frequency W-MON will be used.\n",
      "  self._init_dates(dates, freq)\n",
      "c:\\Users\\surej\\OneDrive\\Desktop\\project\\.vene\\Lib\\site-packages\\statsmodels\\tsa\\base\\tsa_model.py:473: ValueWarning: No frequency information was provided, so inferred frequency W-MON will be used.\n",
      "  self._init_dates(dates, freq)\n"
     ]
    },
    {
     "name": "stdout",
     "output_type": "stream",
     "text": [
      "Generating forecast for pizza_name_id: the_greek_l\n"
     ]
    },
    {
     "name": "stderr",
     "output_type": "stream",
     "text": [
      "c:\\Users\\surej\\OneDrive\\Desktop\\project\\.vene\\Lib\\site-packages\\statsmodels\\tsa\\base\\tsa_model.py:473: ValueWarning: No frequency information was provided, so inferred frequency W-MON will be used.\n",
      "  self._init_dates(dates, freq)\n",
      "c:\\Users\\surej\\OneDrive\\Desktop\\project\\.vene\\Lib\\site-packages\\statsmodels\\tsa\\base\\tsa_model.py:473: ValueWarning: No frequency information was provided, so inferred frequency W-MON will be used.\n",
      "  self._init_dates(dates, freq)\n",
      "c:\\Users\\surej\\OneDrive\\Desktop\\project\\.vene\\Lib\\site-packages\\statsmodels\\tsa\\base\\tsa_model.py:473: ValueWarning: No frequency information was provided, so inferred frequency W-MON will be used.\n",
      "  self._init_dates(dates, freq)\n"
     ]
    },
    {
     "name": "stdout",
     "output_type": "stream",
     "text": [
      "Generating forecast for pizza_name_id: the_greek_m\n"
     ]
    },
    {
     "name": "stderr",
     "output_type": "stream",
     "text": [
      "c:\\Users\\surej\\OneDrive\\Desktop\\project\\.vene\\Lib\\site-packages\\statsmodels\\tsa\\base\\tsa_model.py:473: ValueWarning: No frequency information was provided, so inferred frequency W-MON will be used.\n",
      "  self._init_dates(dates, freq)\n",
      "c:\\Users\\surej\\OneDrive\\Desktop\\project\\.vene\\Lib\\site-packages\\statsmodels\\tsa\\base\\tsa_model.py:473: ValueWarning: No frequency information was provided, so inferred frequency W-MON will be used.\n",
      "  self._init_dates(dates, freq)\n",
      "c:\\Users\\surej\\OneDrive\\Desktop\\project\\.vene\\Lib\\site-packages\\statsmodels\\tsa\\base\\tsa_model.py:473: ValueWarning: No frequency information was provided, so inferred frequency W-MON will be used.\n",
      "  self._init_dates(dates, freq)\n"
     ]
    },
    {
     "name": "stdout",
     "output_type": "stream",
     "text": [
      "Generating forecast for pizza_name_id: the_greek_s\n"
     ]
    },
    {
     "name": "stderr",
     "output_type": "stream",
     "text": [
      "c:\\Users\\surej\\OneDrive\\Desktop\\project\\.vene\\Lib\\site-packages\\statsmodels\\tsa\\base\\tsa_model.py:473: ValueWarning: No frequency information was provided, so inferred frequency W-MON will be used.\n",
      "  self._init_dates(dates, freq)\n",
      "c:\\Users\\surej\\OneDrive\\Desktop\\project\\.vene\\Lib\\site-packages\\statsmodels\\tsa\\base\\tsa_model.py:473: ValueWarning: No frequency information was provided, so inferred frequency W-MON will be used.\n",
      "  self._init_dates(dates, freq)\n",
      "c:\\Users\\surej\\OneDrive\\Desktop\\project\\.vene\\Lib\\site-packages\\statsmodels\\tsa\\base\\tsa_model.py:473: ValueWarning: No frequency information was provided, so inferred frequency W-MON will be used.\n",
      "  self._init_dates(dates, freq)\n"
     ]
    },
    {
     "name": "stdout",
     "output_type": "stream",
     "text": [
      "Generating forecast for pizza_name_id: the_greek_xl\n"
     ]
    },
    {
     "name": "stderr",
     "output_type": "stream",
     "text": [
      "c:\\Users\\surej\\OneDrive\\Desktop\\project\\.vene\\Lib\\site-packages\\statsmodels\\tsa\\base\\tsa_model.py:473: ValueWarning: No frequency information was provided, so inferred frequency W-MON will be used.\n",
      "  self._init_dates(dates, freq)\n",
      "c:\\Users\\surej\\OneDrive\\Desktop\\project\\.vene\\Lib\\site-packages\\statsmodels\\tsa\\base\\tsa_model.py:473: ValueWarning: No frequency information was provided, so inferred frequency W-MON will be used.\n",
      "  self._init_dates(dates, freq)\n",
      "c:\\Users\\surej\\OneDrive\\Desktop\\project\\.vene\\Lib\\site-packages\\statsmodels\\tsa\\base\\tsa_model.py:473: ValueWarning: No frequency information was provided, so inferred frequency W-MON will be used.\n",
      "  self._init_dates(dates, freq)\n"
     ]
    },
    {
     "name": "stdout",
     "output_type": "stream",
     "text": [
      "Generating forecast for pizza_name_id: veggie_veg_l\n"
     ]
    },
    {
     "name": "stderr",
     "output_type": "stream",
     "text": [
      "c:\\Users\\surej\\OneDrive\\Desktop\\project\\.vene\\Lib\\site-packages\\statsmodels\\tsa\\base\\tsa_model.py:473: ValueWarning: No frequency information was provided, so inferred frequency W-MON will be used.\n",
      "  self._init_dates(dates, freq)\n",
      "c:\\Users\\surej\\OneDrive\\Desktop\\project\\.vene\\Lib\\site-packages\\statsmodels\\tsa\\base\\tsa_model.py:473: ValueWarning: No frequency information was provided, so inferred frequency W-MON will be used.\n",
      "  self._init_dates(dates, freq)\n",
      "c:\\Users\\surej\\OneDrive\\Desktop\\project\\.vene\\Lib\\site-packages\\statsmodels\\tsa\\base\\tsa_model.py:473: ValueWarning: No frequency information was provided, so inferred frequency W-MON will be used.\n",
      "  self._init_dates(dates, freq)\n"
     ]
    },
    {
     "name": "stdout",
     "output_type": "stream",
     "text": [
      "Generating forecast for pizza_name_id: veggie_veg_m\n"
     ]
    },
    {
     "name": "stderr",
     "output_type": "stream",
     "text": [
      "c:\\Users\\surej\\OneDrive\\Desktop\\project\\.vene\\Lib\\site-packages\\statsmodels\\tsa\\base\\tsa_model.py:473: ValueWarning: No frequency information was provided, so inferred frequency W-MON will be used.\n",
      "  self._init_dates(dates, freq)\n",
      "c:\\Users\\surej\\OneDrive\\Desktop\\project\\.vene\\Lib\\site-packages\\statsmodels\\tsa\\base\\tsa_model.py:473: ValueWarning: No frequency information was provided, so inferred frequency W-MON will be used.\n",
      "  self._init_dates(dates, freq)\n",
      "c:\\Users\\surej\\OneDrive\\Desktop\\project\\.vene\\Lib\\site-packages\\statsmodels\\tsa\\base\\tsa_model.py:473: ValueWarning: No frequency information was provided, so inferred frequency W-MON will be used.\n",
      "  self._init_dates(dates, freq)\n"
     ]
    },
    {
     "name": "stdout",
     "output_type": "stream",
     "text": [
      "Generating forecast for pizza_name_id: veggie_veg_s\n"
     ]
    },
    {
     "name": "stderr",
     "output_type": "stream",
     "text": [
      "c:\\Users\\surej\\OneDrive\\Desktop\\project\\.vene\\Lib\\site-packages\\statsmodels\\tsa\\base\\tsa_model.py:473: ValueWarning: No frequency information was provided, so inferred frequency W-MON will be used.\n",
      "  self._init_dates(dates, freq)\n",
      "c:\\Users\\surej\\OneDrive\\Desktop\\project\\.vene\\Lib\\site-packages\\statsmodels\\tsa\\base\\tsa_model.py:473: ValueWarning: No frequency information was provided, so inferred frequency W-MON will be used.\n",
      "  self._init_dates(dates, freq)\n",
      "c:\\Users\\surej\\OneDrive\\Desktop\\project\\.vene\\Lib\\site-packages\\statsmodels\\tsa\\base\\tsa_model.py:473: ValueWarning: No frequency information was provided, so inferred frequency W-MON will be used.\n",
      "  self._init_dates(dates, freq)\n"
     ]
    },
    {
     "name": "stdout",
     "output_type": "stream",
     "text": [
      "Generating forecast for pizza_name_id: calabrese_l\n"
     ]
    },
    {
     "name": "stderr",
     "output_type": "stream",
     "text": [
      "c:\\Users\\surej\\OneDrive\\Desktop\\project\\.vene\\Lib\\site-packages\\statsmodels\\tsa\\base\\tsa_model.py:473: ValueWarning: No frequency information was provided, so inferred frequency W-MON will be used.\n",
      "  self._init_dates(dates, freq)\n",
      "c:\\Users\\surej\\OneDrive\\Desktop\\project\\.vene\\Lib\\site-packages\\statsmodels\\tsa\\base\\tsa_model.py:473: ValueWarning: No frequency information was provided, so inferred frequency W-MON will be used.\n",
      "  self._init_dates(dates, freq)\n",
      "c:\\Users\\surej\\OneDrive\\Desktop\\project\\.vene\\Lib\\site-packages\\statsmodels\\tsa\\base\\tsa_model.py:473: ValueWarning: No frequency information was provided, so inferred frequency W-MON will be used.\n",
      "  self._init_dates(dates, freq)\n"
     ]
    },
    {
     "name": "stdout",
     "output_type": "stream",
     "text": [
      "Generating forecast for pizza_name_id: the_greek_xxl\n"
     ]
    },
    {
     "name": "stderr",
     "output_type": "stream",
     "text": [
      "c:\\Users\\surej\\OneDrive\\Desktop\\project\\.vene\\Lib\\site-packages\\statsmodels\\tsa\\base\\tsa_model.py:473: ValueWarning: A date index has been provided, but it has no associated frequency information and so will be ignored when e.g. forecasting.\n",
      "  self._init_dates(dates, freq)\n",
      "c:\\Users\\surej\\OneDrive\\Desktop\\project\\.vene\\Lib\\site-packages\\statsmodels\\tsa\\base\\tsa_model.py:473: ValueWarning: A date index has been provided, but it has no associated frequency information and so will be ignored when e.g. forecasting.\n",
      "  self._init_dates(dates, freq)\n",
      "c:\\Users\\surej\\OneDrive\\Desktop\\project\\.vene\\Lib\\site-packages\\statsmodels\\tsa\\base\\tsa_model.py:473: ValueWarning: A date index has been provided, but it has no associated frequency information and so will be ignored when e.g. forecasting.\n",
      "  self._init_dates(dates, freq)\n"
     ]
    },
    {
     "name": "stdout",
     "output_type": "stream",
     "text": [
      "\n",
      "Predicted sales for the next 1 weeks:\n",
      "\n",
      "    predicted_sales  pizza_name_id\n",
      "0         18.399925      bbq_ckn_l\n",
      "1         17.218952      bbq_ckn_m\n",
      "2          9.773546      bbq_ckn_s\n",
      "3         37.340284     big_meat_s\n",
      "4          8.509169   brie_carre_s\n",
      "..              ...            ...\n",
      "86         6.567697   veggie_veg_l\n",
      "87         8.454898   veggie_veg_m\n",
      "88         8.262843   veggie_veg_s\n",
      "89         4.738075    calabrese_l\n",
      "90         1.176935  the_greek_xxl\n",
      "\n",
      "[91 rows x 2 columns]\n",
      "\n",
      "Ingredients required for the next 1 weeks of predicted sales:\n",
      "\n",
      "          pizza_ingredients  total_ingredient_qty\n",
      "0              ?duja Salami            781.196536\n",
      "1             Alfredo Sauce            331.753036\n",
      "2                 Anchovies            792.583242\n",
      "3                Artichokes           2394.165188\n",
      "4                   Arugula            280.727508\n",
      "..                      ...                   ...\n",
      "59       Sun-dried Tomatoes            376.203084\n",
      "60  Thai Sweet Chilli Sauce           1022.335619\n",
      "61                    Thyme             42.545844\n",
      "62                 Tomatoes          11129.298501\n",
      "63                 Zucchini            789.338677\n",
      "\n",
      "[64 rows x 2 columns]\n"
     ]
    },
    {
     "name": "stderr",
     "output_type": "stream",
     "text": [
      "c:\\Users\\surej\\OneDrive\\Desktop\\project\\.vene\\Lib\\site-packages\\statsmodels\\tsa\\base\\tsa_model.py:837: ValueWarning: No supported index is available. Prediction results will be given with an integer index beginning at `start`.\n",
      "  return get_prediction_index(\n",
      "c:\\Users\\surej\\OneDrive\\Desktop\\project\\.vene\\Lib\\site-packages\\statsmodels\\tsa\\base\\tsa_model.py:837: FutureWarning: No supported index is available. In the next version, calling this method in a model without a supported index will result in an exception.\n",
      "  return get_prediction_index(\n"
     ]
    }
   ],
   "source": [
    "sales_data['order_date'] = pd.to_datetime(sales_data['order_date'])\n",
    "\n",
    "weekly_sales = sales_data.groupby([pd.Grouper(key='order_date', freq='W-MON'), 'pizza_name_id'])['quantity'].sum().reset_index()\n",
    "\n",
    "future_predictions = []\n",
    "\n",
    "for pizza_name_id in weekly_sales['pizza_name_id'].unique():\n",
    "    pizza_sales = weekly_sales[weekly_sales['pizza_name_id'] == pizza_name_id]\n",
    "    pizza_sales.set_index('order_date', inplace=True)\n",
    "\n",
    "    print(f\"Generating forecast for pizza_name_id: {pizza_name_id}\")\n",
    "\n",
    "    model = ARIMA(pizza_sales['quantity'], order=(4, 0, 0))  \n",
    "    model_fit = model.fit()\n",
    "\n",
    "    future_steps = 1\n",
    "\n",
    "    future_forecast = model_fit.forecast(steps=future_steps)\n",
    "\n",
    "    future_dates = pd.date_range(start=pizza_sales.index[-1] + pd.Timedelta(weeks=1), periods=future_steps, freq='W-MON')\n",
    "\n",
    "    forecast_df = pd.DataFrame({\n",
    "        'order_date': future_dates,\n",
    "        'predicted_sales': future_forecast,\n",
    "        'pizza_name_id': pizza_name_id\n",
    "    })\n",
    "\n",
    "    future_predictions.append(forecast_df)\n",
    "\n",
    "all_forecasts = pd.concat(future_predictions).reset_index(drop=True)\n",
    "\n",
    "print(\"\\nPredicted sales for the next 1 weeks:\\n\")\n",
    "print(all_forecasts[['predicted_sales','pizza_name_id']])\n",
    "\n",
    "ingredient_requirements = pd.merge(all_forecasts, ingredients_data, on='pizza_name_id', how='left')\n",
    "\n",
    "ingredient_requirements['total_ingredient_qty'] = ingredient_requirements['predicted_sales'] * ingredient_requirements['Items_Qty_In_Grams']\n",
    "\n",
    "total_ingredient_needs = ingredient_requirements.groupby('pizza_ingredients')['total_ingredient_qty'].sum().reset_index()\n",
    "\n",
    "print(\"\\nIngredients required for the next 1 weeks of predicted sales:\\n\")\n",
    "print(total_ingredient_needs)\n",
    "\n",
    "total_ingredient_needs.to_csv(r'C:\\Users\\surej\\OneDrive\\Desktop\\project\\ingredients_pred_capstone\\ingredients.csv')\n",
    "all_forecasts.to_csv(r'C:\\Users\\surej\\OneDrive\\Desktop\\project\\ingredients_pred_capstone\\prediction.csv')"
   ]
  },
  {
   "cell_type": "code",
   "execution_count": null,
   "metadata": {},
   "outputs": [],
   "source": []
  }
 ],
 "metadata": {
  "kernelspec": {
   "display_name": ".vene",
   "language": "python",
   "name": "python3"
  },
  "language_info": {
   "codemirror_mode": {
    "name": "ipython",
    "version": 3
   },
   "file_extension": ".py",
   "mimetype": "text/x-python",
   "name": "python",
   "nbconvert_exporter": "python",
   "pygments_lexer": "ipython3",
   "version": "3.12.3"
  }
 },
 "nbformat": 4,
 "nbformat_minor": 2
}
